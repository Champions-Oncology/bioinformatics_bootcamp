{
 "cells": [
  {
   "cell_type": "markdown",
   "id": "83c2e3ad",
   "metadata": {},
   "source": [
    "# Outline for DGE Analysis\n",
    "1. Load package dependencies  \n",
    "2. Define custom functions   \n",
    "3. Read the data  \n",
    "4. Define parameters  \n",
    "5. Normalize counts  \n",
    "6. DGE with limma  \n",
    "7. DGE with DESeq2  \n",
    "\n",
    "## 1. Load package dependencies\n",
    "Base R uses a single package repository named \"CRAN\" mirrored across the globe, but the bioinformatics world has established a second independent package repository named \"Bioconductor\".   \n",
    "The Jupyter system includes some high-profile packages from CRAN that are useful for data analysis, but we also need to install a few from Bioconductor. Installing the packages takes a minute, so in this block we do a check to see if we need to install them before actually doing so.  \n",
    "\n",
    "The `data.table` package is from CRAN, while the `BiocManager` package is our interface with Bioconductor.  \n",
    "After installing the packages we must explicitly load them with the `library` command.  "
   ]
  },
  {
   "cell_type": "code",
   "execution_count": 111,
   "id": "9408b812",
   "metadata": {},
   "outputs": [
    {
     "name": "stderr",
     "output_type": "stream",
     "text": [
      "'getOption(\"repos\")' replaces Bioconductor standard repositories, see\n",
      "'?repositories' for details\n",
      "\n",
      "replacement repositories:\n",
      "    CRAN: https://cran.r-project.org\n",
      "\n",
      "\n",
      "Bioconductor version 3.14 (BiocManager 1.30.16), R 4.1.1 (2021-08-10)\n",
      "\n",
      "Installing package(s) 'DESeq2'\n",
      "\n",
      "also installing the dependencies ‘formatR’, ‘png’, ‘Biostrings’, ‘GenomeInfoDbData’, ‘zlibbioc’, ‘matrixStats’, ‘lambda.r’, ‘futile.options’, ‘KEGGREST’, ‘XML’, ‘GenomeInfoDb’, ‘XVector’, ‘MatrixGenerics’, ‘DelayedArray’, ‘futile.logger’, ‘snow’, ‘BH’, ‘AnnotationDbi’, ‘annotate’, ‘S4Vectors’, ‘IRanges’, ‘GenomicRanges’, ‘SummarizedExperiment’, ‘BiocGenerics’, ‘Biobase’, ‘BiocParallel’, ‘genefilter’, ‘geneplotter’\n",
      "\n",
      "\n",
      "Updating HTML index of packages in '.Library'\n",
      "\n",
      "Making 'packages.html' ...\n",
      " done\n",
      "\n",
      "Old packages: 'backports', 'brio', 'broom', 'bslib', 'caret', 'cli',\n",
      "  'conflicted', 'cpp11', 'crayon', 'credentials', 'crosstalk', 'data.table',\n",
      "  'DBI', 'desc', 'devtools', 'dials', 'diffobj', 'digest', 'DT', 'dtplyr',\n",
      "  'e1071', 'fansi', 'forecast', 'fs', 'future', 'generics', 'gert', 'git2r',\n",
      "  'glue', 'googlesheets4', 'hms', 'htmlwidgets', 'httpuv', 'ipred',\n",
      "  'IRdisplay', 'IRkernel', 'knitr', 'later', 'lattice', 'lava', 'lhs',\n",
      "  'lifecycle', 'lmtest', 'lubridate', 'Matrix', 'memoise', 'mgcv', 'mime',\n",
      "  'nlme', 'openssl', 'parallelly', 'pbdZMQ', 'pillar', 'pkgbuild', 'pkgload',\n",
      "  'plotly', 'pROC', 'rcmdcheck', 'RcppArmadillo', 'RCurl', 'readr', 'recipes',\n",
      "  'remotes', 'repr', 'rex', 'rlang', 'rmarkdown', 'RODBC', 'roxygen2',\n",
      "  'rsample', 'RSQLite', 'rvest', 'sessioninfo', 'shiny', 'stringi', 'testthat',\n",
      "  'tibble', 'tidymodels', 'tidyr', 'tinytex', 'tseries', 'TTR', 'usethis',\n",
      "  'uuid', 'waldo', 'withr', 'workflows', 'xfun', 'xml2', 'yardstick'\n",
      "\n",
      "Loading required package: S4Vectors\n",
      "\n",
      "Loading required package: stats4\n",
      "\n",
      "Loading required package: BiocGenerics\n",
      "\n",
      "\n",
      "Attaching package: ‘BiocGenerics’\n",
      "\n",
      "\n",
      "The following object is masked from ‘package:limma’:\n",
      "\n",
      "    plotMA\n",
      "\n",
      "\n",
      "The following objects are masked from ‘package:stats’:\n",
      "\n",
      "    IQR, mad, sd, var, xtabs\n",
      "\n",
      "\n",
      "The following objects are masked from ‘package:base’:\n",
      "\n",
      "    anyDuplicated, append, as.data.frame, basename, cbind, colnames,\n",
      "    dirname, do.call, duplicated, eval, evalq, Filter, Find, get, grep,\n",
      "    grepl, intersect, is.unsorted, lapply, Map, mapply, match, mget,\n",
      "    order, paste, pmax, pmax.int, pmin, pmin.int, Position, rank,\n",
      "    rbind, Reduce, rownames, sapply, setdiff, sort, table, tapply,\n",
      "    union, unique, unsplit, which.max, which.min\n",
      "\n",
      "\n",
      "\n",
      "Attaching package: ‘S4Vectors’\n",
      "\n",
      "\n",
      "The following objects are masked from ‘package:data.table’:\n",
      "\n",
      "    first, second\n",
      "\n",
      "\n",
      "The following objects are masked from ‘package:base’:\n",
      "\n",
      "    expand.grid, I, unname\n",
      "\n",
      "\n",
      "Loading required package: IRanges\n",
      "\n",
      "\n",
      "Attaching package: ‘IRanges’\n",
      "\n",
      "\n",
      "The following object is masked from ‘package:data.table’:\n",
      "\n",
      "    shift\n",
      "\n",
      "\n",
      "Loading required package: GenomicRanges\n",
      "\n",
      "Loading required package: GenomeInfoDb\n",
      "\n",
      "Loading required package: SummarizedExperiment\n",
      "\n",
      "Loading required package: MatrixGenerics\n",
      "\n",
      "Loading required package: matrixStats\n",
      "\n",
      "\n",
      "Attaching package: ‘MatrixGenerics’\n",
      "\n",
      "\n",
      "The following objects are masked from ‘package:matrixStats’:\n",
      "\n",
      "    colAlls, colAnyNAs, colAnys, colAvgsPerRowSet, colCollapse,\n",
      "    colCounts, colCummaxs, colCummins, colCumprods, colCumsums,\n",
      "    colDiffs, colIQRDiffs, colIQRs, colLogSumExps, colMadDiffs,\n",
      "    colMads, colMaxs, colMeans2, colMedians, colMins, colOrderStats,\n",
      "    colProds, colQuantiles, colRanges, colRanks, colSdDiffs, colSds,\n",
      "    colSums2, colTabulates, colVarDiffs, colVars, colWeightedMads,\n",
      "    colWeightedMeans, colWeightedMedians, colWeightedSds,\n",
      "    colWeightedVars, rowAlls, rowAnyNAs, rowAnys, rowAvgsPerColSet,\n",
      "    rowCollapse, rowCounts, rowCummaxs, rowCummins, rowCumprods,\n",
      "    rowCumsums, rowDiffs, rowIQRDiffs, rowIQRs, rowLogSumExps,\n",
      "    rowMadDiffs, rowMads, rowMaxs, rowMeans2, rowMedians, rowMins,\n",
      "    rowOrderStats, rowProds, rowQuantiles, rowRanges, rowRanks,\n",
      "    rowSdDiffs, rowSds, rowSums2, rowTabulates, rowVarDiffs, rowVars,\n",
      "    rowWeightedMads, rowWeightedMeans, rowWeightedMedians,\n",
      "    rowWeightedSds, rowWeightedVars\n",
      "\n",
      "\n",
      "Loading required package: Biobase\n",
      "\n",
      "Welcome to Bioconductor\n",
      "\n",
      "    Vignettes contain introductory material; view with\n",
      "    'browseVignettes()'. To cite Bioconductor, see\n",
      "    'citation(\"Biobase\")', and for packages 'citation(\"pkgname\")'.\n",
      "\n",
      "\n",
      "\n",
      "Attaching package: ‘Biobase’\n",
      "\n",
      "\n",
      "The following object is masked from ‘package:MatrixGenerics’:\n",
      "\n",
      "    rowMedians\n",
      "\n",
      "\n",
      "The following objects are masked from ‘package:matrixStats’:\n",
      "\n",
      "    anyMissing, rowMedians\n",
      "\n",
      "\n"
     ]
    }
   ],
   "source": [
    "library(data.table)\n",
    "\n",
    "if (!requireNamespace(\"BiocManager\", quietly = TRUE)) {\n",
    "    install.packages(\"BiocManager\")\n",
    "    BiocManager::install(c(\"limma\", \"edgeR\", \"DESeq2\"))\n",
    "}\n",
    "library(limma)\n",
    "library(edgeR)\n",
    "library(DESeq2)\n",
    "\n",
    "install.packages('statmod')\n",
    "library(statmod)"
   ]
  },
  {
   "cell_type": "markdown",
   "id": "f6f1d8e4",
   "metadata": {},
   "source": [
    "## 2. Define custom functions\n",
    "We will use edgeR to normalize our count data as counts per million. This process is roughly 5 calls to other functions, but we can wrap them up in a single function call.  \n",
    "For clarity the package namespace is referenced before each function call using the namespace selector `::`. This is useful but not necessary. If a function namespace is not specified it is (probably) from the base packages loaded when R starts.  "
   ]
  },
  {
   "cell_type": "code",
   "execution_count": 71,
   "id": "b5cdda1f",
   "metadata": {},
   "outputs": [],
   "source": [
    "normalizeCounts <- function(counts){\n",
    "  d <- edgeR::DGEList(counts = counts, group = colnames(counts))\n",
    "  dNorm <- edgeR::calcNormFactors(d, method = 'TMM')\n",
    "  \n",
    "  lcpm <- edgeR::cpm(dNorm, log = T)\n",
    "  L <- mean(dNorm$samples$lib.size) * 1e-6\n",
    "  M <- median(dNorm$samples$lib.size) * 1e-6\n",
    "  \n",
    "  lcpm.cutoff <- log2(10/M + 2/L)\n",
    "  \n",
    "  r.m.l.cpm <- rowMeans(lcpm)\n",
    "  \n",
    "  filtered <- which(r.m.l.cpm >= lcpm.cutoff)\n",
    "  return(dNorm[filtered,])\n",
    "}"
   ]
  },
  {
   "cell_type": "markdown",
   "id": "ebbbd409",
   "metadata": {},
   "source": [
    "## 3. Read Counts Data\n",
    "The counts will come in as a matrix that requires little reshaping bit may need some cleanup.  "
   ]
  },
  {
   "cell_type": "code",
   "execution_count": 6,
   "id": "8555c682",
   "metadata": {
    "scrolled": true
   },
   "outputs": [
    {
     "data": {
      "text/html": [
       "<style>\n",
       ".list-inline {list-style: none; margin:0; padding: 0}\n",
       ".list-inline>li {display: inline-block}\n",
       ".list-inline>li:not(:last-child)::after {content: \"\\00b7\"; padding: 0 .5ex}\n",
       "</style>\n",
       "<ol class=list-inline><li>'Basic R.ipynb'</li><li>'bioinformatics-bootcamp'</li><li>'champions-starter-materials'</li><li>'lost+found'</li><li>'RSEM_expected_counts_matrix_2021-03-11.RData'</li><li>'sample_counts.csv'</li><li>'Untitled.ipynb'</li></ol>\n"
      ],
      "text/latex": [
       "\\begin{enumerate*}\n",
       "\\item 'Basic R.ipynb'\n",
       "\\item 'bioinformatics-bootcamp'\n",
       "\\item 'champions-starter-materials'\n",
       "\\item 'lost+found'\n",
       "\\item 'RSEM\\_expected\\_counts\\_matrix\\_2021-03-11.RData'\n",
       "\\item 'sample\\_counts.csv'\n",
       "\\item 'Untitled.ipynb'\n",
       "\\end{enumerate*}\n"
      ],
      "text/markdown": [
       "1. 'Basic R.ipynb'\n",
       "2. 'bioinformatics-bootcamp'\n",
       "3. 'champions-starter-materials'\n",
       "4. 'lost+found'\n",
       "5. 'RSEM_expected_counts_matrix_2021-03-11.RData'\n",
       "6. 'sample_counts.csv'\n",
       "7. 'Untitled.ipynb'\n",
       "\n",
       "\n"
      ],
      "text/plain": [
       "[1] \"Basic R.ipynb\"                               \n",
       "[2] \"bioinformatics-bootcamp\"                     \n",
       "[3] \"champions-starter-materials\"                 \n",
       "[4] \"lost+found\"                                  \n",
       "[5] \"RSEM_expected_counts_matrix_2021-03-11.RData\"\n",
       "[6] \"sample_counts.csv\"                           \n",
       "[7] \"Untitled.ipynb\"                              "
      ]
     },
     "metadata": {},
     "output_type": "display_data"
    }
   ],
   "source": [
    "list.files()"
   ]
  },
  {
   "cell_type": "code",
   "execution_count": 49,
   "id": "cdfc1ff2",
   "metadata": {},
   "outputs": [],
   "source": [
    "dat <- data.table::fread('./sample_counts.csv')"
   ]
  },
  {
   "cell_type": "markdown",
   "id": "d7495815",
   "metadata": {},
   "source": [
    "Rather than start blind, we can explore the data and see what the file contains. R has a few built-in functions to explore tables -- we can view the top few rows with `head`, examine the structure with `str`, and get a summary of the fields with `summary`.  We also should confirm that this is an object of class `data.frame` so we know what methods are available to us.  "
   ]
  },
  {
   "cell_type": "code",
   "execution_count": 14,
   "id": "11464e71",
   "metadata": {
    "scrolled": false
   },
   "outputs": [
    {
     "data": {
      "text/html": [
       "<style>\n",
       ".list-inline {list-style: none; margin:0; padding: 0}\n",
       ".list-inline>li {display: inline-block}\n",
       ".list-inline>li:not(:last-child)::after {content: \"\\00b7\"; padding: 0 .5ex}\n",
       "</style>\n",
       "<ol class=list-inline><li>'data.table'</li><li>'data.frame'</li></ol>\n"
      ],
      "text/latex": [
       "\\begin{enumerate*}\n",
       "\\item 'data.table'\n",
       "\\item 'data.frame'\n",
       "\\end{enumerate*}\n"
      ],
      "text/markdown": [
       "1. 'data.table'\n",
       "2. 'data.frame'\n",
       "\n",
       "\n"
      ],
      "text/plain": [
       "[1] \"data.table\" \"data.frame\""
      ]
     },
     "metadata": {},
     "output_type": "display_data"
    }
   ],
   "source": [
    "class(dat)"
   ]
  },
  {
   "cell_type": "code",
   "execution_count": 17,
   "id": "5bc4c9ed",
   "metadata": {},
   "outputs": [
    {
     "data": {
      "text/html": [
       "<style>\n",
       ".list-inline {list-style: none; margin:0; padding: 0}\n",
       ".list-inline>li {display: inline-block}\n",
       ".list-inline>li:not(:last-child)::after {content: \"\\00b7\"; padding: 0 .5ex}\n",
       "</style>\n",
       "<ol class=list-inline><li>33562</li><li>13</li></ol>\n"
      ],
      "text/latex": [
       "\\begin{enumerate*}\n",
       "\\item 33562\n",
       "\\item 13\n",
       "\\end{enumerate*}\n"
      ],
      "text/markdown": [
       "1. 33562\n",
       "2. 13\n",
       "\n",
       "\n"
      ],
      "text/plain": [
       "[1] 33562    13"
      ]
     },
     "metadata": {},
     "output_type": "display_data"
    }
   ],
   "source": [
    "dim(dat)"
   ]
  },
  {
   "cell_type": "code",
   "execution_count": 27,
   "id": "ec00403b",
   "metadata": {
    "scrolled": true
   },
   "outputs": [
    {
     "data": {
      "text/html": [
       "<table class=\"dataframe\">\n",
       "<caption>A data.frame: 6 × 12</caption>\n",
       "<thead>\n",
       "\t<tr><th></th><th scope=col>A_1</th><th scope=col>B_1</th><th scope=col>vehicle_1</th><th scope=col>C_1</th><th scope=col>A_2</th><th scope=col>C_2</th><th scope=col>vehicle_2</th><th scope=col>C_3</th><th scope=col>B_2</th><th scope=col>A_3</th><th scope=col>B_3</th><th scope=col>vehicle_3</th></tr>\n",
       "\t<tr><th></th><th scope=col>&lt;int&gt;</th><th scope=col>&lt;int&gt;</th><th scope=col>&lt;int&gt;</th><th scope=col>&lt;int&gt;</th><th scope=col>&lt;int&gt;</th><th scope=col>&lt;int&gt;</th><th scope=col>&lt;int&gt;</th><th scope=col>&lt;int&gt;</th><th scope=col>&lt;int&gt;</th><th scope=col>&lt;int&gt;</th><th scope=col>&lt;int&gt;</th><th scope=col>&lt;int&gt;</th></tr>\n",
       "</thead>\n",
       "<tbody>\n",
       "\t<tr><th scope=row>1</th><td>  98</td><td> 198</td><td>202</td><td> 219</td><td> 198</td><td>183</td><td>225</td><td>182</td><td>253</td><td> 97</td><td> 337</td><td>192</td></tr>\n",
       "\t<tr><th scope=row>2</th><td> 231</td><td> 265</td><td>192</td><td> 158</td><td> 301</td><td>137</td><td>179</td><td>153</td><td>262</td><td>272</td><td> 211</td><td>121</td></tr>\n",
       "\t<tr><th scope=row>3</th><td>   0</td><td>   0</td><td>  0</td><td>   0</td><td>   0</td><td>  0</td><td>  0</td><td>  0</td><td>  0</td><td>  0</td><td>   0</td><td>  0</td></tr>\n",
       "\t<tr><th scope=row>4</th><td>   0</td><td>   0</td><td>  0</td><td>   0</td><td>   0</td><td>  0</td><td>  0</td><td>  3</td><td>  0</td><td>  0</td><td>   0</td><td>  0</td></tr>\n",
       "\t<tr><th scope=row>5</th><td>  31</td><td>   1</td><td> 27</td><td>  19</td><td>  13</td><td> 21</td><td> 26</td><td> 17</td><td> 11</td><td> 22</td><td>   4</td><td>  7</td></tr>\n",
       "\t<tr><th scope=row>6</th><td>1039</td><td>2410</td><td> 65</td><td>1021</td><td>1667</td><td>359</td><td>369</td><td>339</td><td>895</td><td>920</td><td>1139</td><td>703</td></tr>\n",
       "</tbody>\n",
       "</table>\n"
      ],
      "text/latex": [
       "A data.frame: 6 × 12\n",
       "\\begin{tabular}{r|llllllllllll}\n",
       "  & A\\_1 & B\\_1 & vehicle\\_1 & C\\_1 & A\\_2 & C\\_2 & vehicle\\_2 & C\\_3 & B\\_2 & A\\_3 & B\\_3 & vehicle\\_3\\\\\n",
       "  & <int> & <int> & <int> & <int> & <int> & <int> & <int> & <int> & <int> & <int> & <int> & <int>\\\\\n",
       "\\hline\n",
       "\t1 &   98 &  198 & 202 &  219 &  198 & 183 & 225 & 182 & 253 &  97 &  337 & 192\\\\\n",
       "\t2 &  231 &  265 & 192 &  158 &  301 & 137 & 179 & 153 & 262 & 272 &  211 & 121\\\\\n",
       "\t3 &    0 &    0 &   0 &    0 &    0 &   0 &   0 &   0 &   0 &   0 &    0 &   0\\\\\n",
       "\t4 &    0 &    0 &   0 &    0 &    0 &   0 &   0 &   3 &   0 &   0 &    0 &   0\\\\\n",
       "\t5 &   31 &    1 &  27 &   19 &   13 &  21 &  26 &  17 &  11 &  22 &    4 &   7\\\\\n",
       "\t6 & 1039 & 2410 &  65 & 1021 & 1667 & 359 & 369 & 339 & 895 & 920 & 1139 & 703\\\\\n",
       "\\end{tabular}\n"
      ],
      "text/markdown": [
       "\n",
       "A data.frame: 6 × 12\n",
       "\n",
       "| <!--/--> | A_1 &lt;int&gt; | B_1 &lt;int&gt; | vehicle_1 &lt;int&gt; | C_1 &lt;int&gt; | A_2 &lt;int&gt; | C_2 &lt;int&gt; | vehicle_2 &lt;int&gt; | C_3 &lt;int&gt; | B_2 &lt;int&gt; | A_3 &lt;int&gt; | B_3 &lt;int&gt; | vehicle_3 &lt;int&gt; |\n",
       "|---|---|---|---|---|---|---|---|---|---|---|---|---|\n",
       "| 1 |   98 |  198 | 202 |  219 |  198 | 183 | 225 | 182 | 253 |  97 |  337 | 192 |\n",
       "| 2 |  231 |  265 | 192 |  158 |  301 | 137 | 179 | 153 | 262 | 272 |  211 | 121 |\n",
       "| 3 |    0 |    0 |   0 |    0 |    0 |   0 |   0 |   0 |   0 |   0 |    0 |   0 |\n",
       "| 4 |    0 |    0 |   0 |    0 |    0 |   0 |   0 |   3 |   0 |   0 |    0 |   0 |\n",
       "| 5 |   31 |    1 |  27 |   19 |   13 |  21 |  26 |  17 |  11 |  22 |    4 |   7 |\n",
       "| 6 | 1039 | 2410 |  65 | 1021 | 1667 | 359 | 369 | 339 | 895 | 920 | 1139 | 703 |\n",
       "\n"
      ],
      "text/plain": [
       "  A_1  B_1  vehicle_1 C_1  A_2  C_2 vehicle_2 C_3 B_2 A_3 B_3  vehicle_3\n",
       "1   98  198 202        219  198 183 225       182 253  97  337 192      \n",
       "2  231  265 192        158  301 137 179       153 262 272  211 121      \n",
       "3    0    0   0          0    0   0   0         0   0   0    0   0      \n",
       "4    0    0   0          0    0   0   0         3   0   0    0   0      \n",
       "5   31    1  27         19   13  21  26        17  11  22    4   7      \n",
       "6 1039 2410  65       1021 1667 359 369       339 895 920 1139 703      "
      ]
     },
     "metadata": {},
     "output_type": "display_data"
    }
   ],
   "source": [
    "head(dat)"
   ]
  },
  {
   "cell_type": "code",
   "execution_count": 28,
   "id": "6ee31be7",
   "metadata": {
    "scrolled": true
   },
   "outputs": [
    {
     "name": "stdout",
     "output_type": "stream",
     "text": [
      "'data.frame':\t30145 obs. of  12 variables:\n",
      " $ A_1      : int  98 231 0 0 31 1039 0 0 4 0 ...\n",
      " $ B_1      : int  198 265 0 0 1 2410 0 0 0 0 ...\n",
      " $ vehicle_1: int  202 192 0 0 27 65 0 0 1 0 ...\n",
      " $ C_1      : int  219 158 0 0 19 1021 0 0 25 0 ...\n",
      " $ A_2      : int  198 301 0 0 13 1667 0 2 10 0 ...\n",
      " $ C_2      : int  183 137 0 0 21 359 0 0 5 0 ...\n",
      " $ vehicle_2: int  225 179 0 0 26 369 0 0 3 0 ...\n",
      " $ C_3      : int  182 153 0 3 17 339 0 0 4 0 ...\n",
      " $ B_2      : int  253 262 0 0 11 895 0 0 2 0 ...\n",
      " $ A_3      : int  97 272 0 0 22 920 0 0 2 0 ...\n",
      " $ B_3      : int  337 211 0 0 4 1139 0 1 3 0 ...\n",
      " $ vehicle_3: int  192 121 0 0 7 703 0 0 2 0 ...\n",
      " - attr(*, \".internal.selfref\")=<externalptr> \n"
     ]
    }
   ],
   "source": [
    "str(dat)"
   ]
  },
  {
   "cell_type": "code",
   "execution_count": 29,
   "id": "8931357e",
   "metadata": {
    "scrolled": false
   },
   "outputs": [
    {
     "data": {
      "text/plain": [
       "      A_1               B_1            vehicle_1            C_1         \n",
       " Min.   :      0   Min.   :      0   Min.   :      0   Min.   :      0  \n",
       " 1st Qu.:      0   1st Qu.:      0   1st Qu.:      0   1st Qu.:      0  \n",
       " Median :      8   Median :      5   Median :      8   Median :      8  \n",
       " Mean   :   1682   Mean   :   1432   Mean   :   1465   Mean   :   1589  \n",
       " 3rd Qu.:    988   3rd Qu.:    574   3rd Qu.:    751   3rd Qu.:    917  \n",
       " Max.   :1055229   Max.   :4056283   Max.   :1810834   Max.   :1057202  \n",
       "      A_2               C_2           vehicle_2            C_3        \n",
       " Min.   :      0   Min.   :     0   Min.   :      0   Min.   :     0  \n",
       " 1st Qu.:      0   1st Qu.:     0   1st Qu.:      0   1st Qu.:     0  \n",
       " Median :     11   Median :     7   Median :      7   Median :     7  \n",
       " Mean   :   2418   Mean   :  1221   Mean   :   1508   Mean   :  1305  \n",
       " 3rd Qu.:   1292   3rd Qu.:   701   3rd Qu.:    847   3rd Qu.:   656  \n",
       " Max.   :1983211   Max.   :579935   Max.   :1127776   Max.   :901791  \n",
       "      B_2               A_3               B_3            vehicle_3     \n",
       " Min.   :      0   Min.   :      0   Min.   :      0   Min.   :     0  \n",
       " 1st Qu.:      0   1st Qu.:      0   1st Qu.:      0   1st Qu.:     0  \n",
       " Median :      6   Median :      7   Median :      5   Median :     7  \n",
       " Mean   :   1339   Mean   :   1363   Mean   :   1257   Mean   :  1434  \n",
       " 3rd Qu.:    652   3rd Qu.:    774   3rd Qu.:    489   3rd Qu.:   823  \n",
       " Max.   :1830942   Max.   :1680100   Max.   :3365469   Max.   :821279  "
      ]
     },
     "metadata": {},
     "output_type": "display_data"
    }
   ],
   "source": [
    "summary(dat)"
   ]
  },
  {
   "cell_type": "markdown",
   "id": "235319d7",
   "metadata": {},
   "source": [
    "The first column appears to be row names, which we should remove. Remove it by using a negative column index and reassigning the value to its prior name.  "
   ]
  },
  {
   "cell_type": "code",
   "execution_count": 50,
   "id": "f5d92060",
   "metadata": {
    "scrolled": true
   },
   "outputs": [
    {
     "data": {
      "text/html": [
       "<table class=\"dataframe\">\n",
       "<caption>A data.table: 6 × 13</caption>\n",
       "<thead>\n",
       "\t<tr><th scope=col>Gene</th><th scope=col>A_1</th><th scope=col>B_1</th><th scope=col>vehicle_1</th><th scope=col>C_1</th><th scope=col>A_2</th><th scope=col>C_2</th><th scope=col>vehicle_2</th><th scope=col>C_3</th><th scope=col>B_2</th><th scope=col>A_3</th><th scope=col>B_3</th><th scope=col>vehicle_3</th></tr>\n",
       "\t<tr><th scope=col>&lt;chr&gt;</th><th scope=col>&lt;int&gt;</th><th scope=col>&lt;int&gt;</th><th scope=col>&lt;int&gt;</th><th scope=col>&lt;int&gt;</th><th scope=col>&lt;int&gt;</th><th scope=col>&lt;int&gt;</th><th scope=col>&lt;int&gt;</th><th scope=col>&lt;int&gt;</th><th scope=col>&lt;int&gt;</th><th scope=col>&lt;int&gt;</th><th scope=col>&lt;int&gt;</th><th scope=col>&lt;int&gt;</th></tr>\n",
       "</thead>\n",
       "<tbody>\n",
       "\t<tr><td>A1BG    </td><td>  98</td><td> 198</td><td>202</td><td> 219</td><td> 198</td><td>183</td><td>225</td><td>182</td><td>253</td><td> 97</td><td> 337</td><td>192</td></tr>\n",
       "\t<tr><td>A1BG-AS1</td><td> 231</td><td> 265</td><td>192</td><td> 158</td><td> 301</td><td>137</td><td>179</td><td>153</td><td>262</td><td>272</td><td> 211</td><td>121</td></tr>\n",
       "\t<tr><td>A1CF    </td><td>   0</td><td>   0</td><td>  0</td><td>   0</td><td>   0</td><td>  0</td><td>  0</td><td>  0</td><td>  0</td><td>  0</td><td>   0</td><td>  0</td></tr>\n",
       "\t<tr><td>A2M     </td><td>   0</td><td>   0</td><td>  0</td><td>   0</td><td>   0</td><td>  0</td><td>  0</td><td>  3</td><td>  0</td><td>  0</td><td>   0</td><td>  0</td></tr>\n",
       "\t<tr><td>A2M-AS1 </td><td>  31</td><td>   1</td><td> 27</td><td>  19</td><td>  13</td><td> 21</td><td> 26</td><td> 17</td><td> 11</td><td> 22</td><td>   4</td><td>  7</td></tr>\n",
       "\t<tr><td>A2ML1   </td><td>1039</td><td>2410</td><td> 65</td><td>1021</td><td>1667</td><td>359</td><td>369</td><td>339</td><td>895</td><td>920</td><td>1139</td><td>703</td></tr>\n",
       "</tbody>\n",
       "</table>\n"
      ],
      "text/latex": [
       "A data.table: 6 × 13\n",
       "\\begin{tabular}{lllllllllllll}\n",
       " Gene & A\\_1 & B\\_1 & vehicle\\_1 & C\\_1 & A\\_2 & C\\_2 & vehicle\\_2 & C\\_3 & B\\_2 & A\\_3 & B\\_3 & vehicle\\_3\\\\\n",
       " <chr> & <int> & <int> & <int> & <int> & <int> & <int> & <int> & <int> & <int> & <int> & <int> & <int>\\\\\n",
       "\\hline\n",
       "\t A1BG     &   98 &  198 & 202 &  219 &  198 & 183 & 225 & 182 & 253 &  97 &  337 & 192\\\\\n",
       "\t A1BG-AS1 &  231 &  265 & 192 &  158 &  301 & 137 & 179 & 153 & 262 & 272 &  211 & 121\\\\\n",
       "\t A1CF     &    0 &    0 &   0 &    0 &    0 &   0 &   0 &   0 &   0 &   0 &    0 &   0\\\\\n",
       "\t A2M      &    0 &    0 &   0 &    0 &    0 &   0 &   0 &   3 &   0 &   0 &    0 &   0\\\\\n",
       "\t A2M-AS1  &   31 &    1 &  27 &   19 &   13 &  21 &  26 &  17 &  11 &  22 &    4 &   7\\\\\n",
       "\t A2ML1    & 1039 & 2410 &  65 & 1021 & 1667 & 359 & 369 & 339 & 895 & 920 & 1139 & 703\\\\\n",
       "\\end{tabular}\n"
      ],
      "text/markdown": [
       "\n",
       "A data.table: 6 × 13\n",
       "\n",
       "| Gene &lt;chr&gt; | A_1 &lt;int&gt; | B_1 &lt;int&gt; | vehicle_1 &lt;int&gt; | C_1 &lt;int&gt; | A_2 &lt;int&gt; | C_2 &lt;int&gt; | vehicle_2 &lt;int&gt; | C_3 &lt;int&gt; | B_2 &lt;int&gt; | A_3 &lt;int&gt; | B_3 &lt;int&gt; | vehicle_3 &lt;int&gt; |\n",
       "|---|---|---|---|---|---|---|---|---|---|---|---|---|\n",
       "| A1BG     |   98 |  198 | 202 |  219 |  198 | 183 | 225 | 182 | 253 |  97 |  337 | 192 |\n",
       "| A1BG-AS1 |  231 |  265 | 192 |  158 |  301 | 137 | 179 | 153 | 262 | 272 |  211 | 121 |\n",
       "| A1CF     |    0 |    0 |   0 |    0 |    0 |   0 |   0 |   0 |   0 |   0 |    0 |   0 |\n",
       "| A2M      |    0 |    0 |   0 |    0 |    0 |   0 |   0 |   3 |   0 |   0 |    0 |   0 |\n",
       "| A2M-AS1  |   31 |    1 |  27 |   19 |   13 |  21 |  26 |  17 |  11 |  22 |    4 |   7 |\n",
       "| A2ML1    | 1039 | 2410 |  65 | 1021 | 1667 | 359 | 369 | 339 | 895 | 920 | 1139 | 703 |\n",
       "\n"
      ],
      "text/plain": [
       "  Gene     A_1  B_1  vehicle_1 C_1  A_2  C_2 vehicle_2 C_3 B_2 A_3 B_3 \n",
       "1 A1BG       98  198 202        219  198 183 225       182 253  97  337\n",
       "2 A1BG-AS1  231  265 192        158  301 137 179       153 262 272  211\n",
       "3 A1CF        0    0   0          0    0   0   0         0   0   0    0\n",
       "4 A2M         0    0   0          0    0   0   0         3   0   0    0\n",
       "5 A2M-AS1    31    1  27         19   13  21  26        17  11  22    4\n",
       "6 A2ML1    1039 2410  65       1021 1667 359 369       339 895 920 1139\n",
       "  vehicle_3\n",
       "1 192      \n",
       "2 121      \n",
       "3   0      \n",
       "4   0      \n",
       "5   7      \n",
       "6 703      "
      ]
     },
     "metadata": {},
     "output_type": "display_data"
    }
   ],
   "source": [
    "dat <- dat[,-1]\n",
    "head(dat)"
   ]
  },
  {
   "cell_type": "markdown",
   "id": "453866e8",
   "metadata": {},
   "source": [
    "The data.table package is one of the few packages that allows us to modify objects in-place, so in general you should explicitly state that you are replacing the object with a modified version.  \n",
    "\n",
    "For DGE analysis we need to a numeric matrix with samples in columns and genes in rows. We will store the gene symbols, trim the data to just numbers, then set the row names and drop the Gene field before coercing to matrix. \n",
    "\n",
    "Some of the gene symbols have been inadvertently read in as dates. Instead of dealing with this issue I'm going to remove them and ignore it, but this is worth chasing down and fixing someday.  "
   ]
  },
  {
   "cell_type": "code",
   "execution_count": 51,
   "id": "2a31f8c5",
   "metadata": {
    "scrolled": false
   },
   "outputs": [
    {
     "data": {
      "text/html": [
       "<style>\n",
       ".list-inline {list-style: none; margin:0; padding: 0}\n",
       ".list-inline>li {display: inline-block}\n",
       ".list-inline>li:not(:last-child)::after {content: \"\\00b7\"; padding: 0 .5ex}\n",
       "</style>\n",
       "<ol class=list-inline><li>'matrix'</li><li>'array'</li></ol>\n"
      ],
      "text/latex": [
       "\\begin{enumerate*}\n",
       "\\item 'matrix'\n",
       "\\item 'array'\n",
       "\\end{enumerate*}\n"
      ],
      "text/markdown": [
       "1. 'matrix'\n",
       "2. 'array'\n",
       "\n",
       "\n"
      ],
      "text/plain": [
       "[1] \"matrix\" \"array\" "
      ]
     },
     "metadata": {},
     "output_type": "display_data"
    },
    {
     "data": {
      "text/html": [
       "<table class=\"dataframe\">\n",
       "<caption>A matrix: 6 × 12 of type int</caption>\n",
       "<thead>\n",
       "\t<tr><th></th><th scope=col>A_1</th><th scope=col>B_1</th><th scope=col>vehicle_1</th><th scope=col>C_1</th><th scope=col>A_2</th><th scope=col>C_2</th><th scope=col>vehicle_2</th><th scope=col>C_3</th><th scope=col>B_2</th><th scope=col>A_3</th><th scope=col>B_3</th><th scope=col>vehicle_3</th></tr>\n",
       "</thead>\n",
       "<tbody>\n",
       "\t<tr><th scope=row>A1BG</th><td>  98</td><td> 198</td><td>202</td><td> 219</td><td> 198</td><td>183</td><td>225</td><td>182</td><td>253</td><td> 97</td><td> 337</td><td>192</td></tr>\n",
       "\t<tr><th scope=row>A1BG-AS1</th><td> 231</td><td> 265</td><td>192</td><td> 158</td><td> 301</td><td>137</td><td>179</td><td>153</td><td>262</td><td>272</td><td> 211</td><td>121</td></tr>\n",
       "\t<tr><th scope=row>A1CF</th><td>   0</td><td>   0</td><td>  0</td><td>   0</td><td>   0</td><td>  0</td><td>  0</td><td>  0</td><td>  0</td><td>  0</td><td>   0</td><td>  0</td></tr>\n",
       "\t<tr><th scope=row>A2M</th><td>   0</td><td>   0</td><td>  0</td><td>   0</td><td>   0</td><td>  0</td><td>  0</td><td>  3</td><td>  0</td><td>  0</td><td>   0</td><td>  0</td></tr>\n",
       "\t<tr><th scope=row>A2M-AS1</th><td>  31</td><td>   1</td><td> 27</td><td>  19</td><td>  13</td><td> 21</td><td> 26</td><td> 17</td><td> 11</td><td> 22</td><td>   4</td><td>  7</td></tr>\n",
       "\t<tr><th scope=row>A2ML1</th><td>1039</td><td>2410</td><td> 65</td><td>1021</td><td>1667</td><td>359</td><td>369</td><td>339</td><td>895</td><td>920</td><td>1139</td><td>703</td></tr>\n",
       "</tbody>\n",
       "</table>\n"
      ],
      "text/latex": [
       "A matrix: 6 × 12 of type int\n",
       "\\begin{tabular}{r|llllllllllll}\n",
       "  & A\\_1 & B\\_1 & vehicle\\_1 & C\\_1 & A\\_2 & C\\_2 & vehicle\\_2 & C\\_3 & B\\_2 & A\\_3 & B\\_3 & vehicle\\_3\\\\\n",
       "\\hline\n",
       "\tA1BG &   98 &  198 & 202 &  219 &  198 & 183 & 225 & 182 & 253 &  97 &  337 & 192\\\\\n",
       "\tA1BG-AS1 &  231 &  265 & 192 &  158 &  301 & 137 & 179 & 153 & 262 & 272 &  211 & 121\\\\\n",
       "\tA1CF &    0 &    0 &   0 &    0 &    0 &   0 &   0 &   0 &   0 &   0 &    0 &   0\\\\\n",
       "\tA2M &    0 &    0 &   0 &    0 &    0 &   0 &   0 &   3 &   0 &   0 &    0 &   0\\\\\n",
       "\tA2M-AS1 &   31 &    1 &  27 &   19 &   13 &  21 &  26 &  17 &  11 &  22 &    4 &   7\\\\\n",
       "\tA2ML1 & 1039 & 2410 &  65 & 1021 & 1667 & 359 & 369 & 339 & 895 & 920 & 1139 & 703\\\\\n",
       "\\end{tabular}\n"
      ],
      "text/markdown": [
       "\n",
       "A matrix: 6 × 12 of type int\n",
       "\n",
       "| <!--/--> | A_1 | B_1 | vehicle_1 | C_1 | A_2 | C_2 | vehicle_2 | C_3 | B_2 | A_3 | B_3 | vehicle_3 |\n",
       "|---|---|---|---|---|---|---|---|---|---|---|---|---|\n",
       "| A1BG |   98 |  198 | 202 |  219 |  198 | 183 | 225 | 182 | 253 |  97 |  337 | 192 |\n",
       "| A1BG-AS1 |  231 |  265 | 192 |  158 |  301 | 137 | 179 | 153 | 262 | 272 |  211 | 121 |\n",
       "| A1CF |    0 |    0 |   0 |    0 |    0 |   0 |   0 |   0 |   0 |   0 |    0 |   0 |\n",
       "| A2M |    0 |    0 |   0 |    0 |    0 |   0 |   0 |   3 |   0 |   0 |    0 |   0 |\n",
       "| A2M-AS1 |   31 |    1 |  27 |   19 |   13 |  21 |  26 |  17 |  11 |  22 |    4 |   7 |\n",
       "| A2ML1 | 1039 | 2410 |  65 | 1021 | 1667 | 359 | 369 | 339 | 895 | 920 | 1139 | 703 |\n",
       "\n"
      ],
      "text/plain": [
       "         A_1  B_1  vehicle_1 C_1  A_2  C_2 vehicle_2 C_3 B_2 A_3 B_3  vehicle_3\n",
       "A1BG       98  198 202        219  198 183 225       182 253  97  337 192      \n",
       "A1BG-AS1  231  265 192        158  301 137 179       153 262 272  211 121      \n",
       "A1CF        0    0   0          0    0   0   0         0   0   0    0   0      \n",
       "A2M         0    0   0          0    0   0   0         3   0   0    0   0      \n",
       "A2M-AS1    31    1  27         19   13  21  26        17  11  22    4   7      \n",
       "A2ML1    1039 2410  65       1021 1667 359 369       339 895 920 1139 703      "
      ]
     },
     "metadata": {},
     "output_type": "display_data"
    }
   ],
   "source": [
    "dat <- dat[!grepl(\"[0-9]-[A-Za-z]*\", dat$Gene),]\n",
    "r_names <- dat$Gene\n",
    "dat <- dat[, -1]\n",
    "dat_m <- as.matrix(dat)\n",
    "rownames(dat_m) <- r_names\n",
    "class(dat_m)\n",
    "head(dat_m)"
   ]
  },
  {
   "cell_type": "markdown",
   "id": "f80ab8bb",
   "metadata": {},
   "source": [
    "## 4. Define parameters\n",
    "We can specify an *a priori* p value threshold, plus we also need to identify which samples we will compare in group A vs group B."
   ]
  },
  {
   "cell_type": "code",
   "execution_count": 99,
   "id": "1449ea04",
   "metadata": {},
   "outputs": [],
   "source": [
    "threshold <- 0.01\n",
    "\n",
    "samples <- list(\n",
    "  A = c('vehicle_1', 'vehicle_2', 'vehicle_3'),\n",
    "  B = c('A_1', 'A_2', 'A_3')\n",
    "  #B = c('B_1', 'B_2', 'B_3')\n",
    "  #B = c('C_1', 'C_2', 'C_3')\n",
    ")"
   ]
  },
  {
   "cell_type": "markdown",
   "id": "afef5c78",
   "metadata": {},
   "source": [
    "## 5. Normalize counts"
   ]
  },
  {
   "cell_type": "code",
   "execution_count": 72,
   "id": "28673c70",
   "metadata": {},
   "outputs": [],
   "source": [
    "dat_norm <- normalizeCounts(dat_m)\n",
    "dat_lcpm <- edgeR::cpm(dat_norm, log = T, prior.count = 1)"
   ]
  },
  {
   "cell_type": "markdown",
   "id": "b854201c",
   "metadata": {},
   "source": [
    "We also need to prepare a design matrix for the model that estimates t-statistics for sample group."
   ]
  },
  {
   "cell_type": "code",
   "execution_count": 79,
   "id": "c7ed9001",
   "metadata": {},
   "outputs": [
    {
     "data": {
      "text/html": [
       "<table class=\"dataframe\">\n",
       "<caption>A data.frame: 6 × 2</caption>\n",
       "<thead>\n",
       "\t<tr><th scope=col>Model</th><th scope=col>Group</th></tr>\n",
       "\t<tr><th scope=col>&lt;chr&gt;</th><th scope=col>&lt;chr&gt;</th></tr>\n",
       "</thead>\n",
       "<tbody>\n",
       "\t<tr><td>vehicle_1</td><td>A</td></tr>\n",
       "\t<tr><td>vehicle_2</td><td>A</td></tr>\n",
       "\t<tr><td>vehicle_3</td><td>A</td></tr>\n",
       "\t<tr><td>A_1      </td><td>B</td></tr>\n",
       "\t<tr><td>A_2      </td><td>B</td></tr>\n",
       "\t<tr><td>A_3      </td><td>B</td></tr>\n",
       "</tbody>\n",
       "</table>\n"
      ],
      "text/latex": [
       "A data.frame: 6 × 2\n",
       "\\begin{tabular}{ll}\n",
       " Model & Group\\\\\n",
       " <chr> & <chr>\\\\\n",
       "\\hline\n",
       "\t vehicle\\_1 & A\\\\\n",
       "\t vehicle\\_2 & A\\\\\n",
       "\t vehicle\\_3 & A\\\\\n",
       "\t A\\_1       & B\\\\\n",
       "\t A\\_2       & B\\\\\n",
       "\t A\\_3       & B\\\\\n",
       "\\end{tabular}\n"
      ],
      "text/markdown": [
       "\n",
       "A data.frame: 6 × 2\n",
       "\n",
       "| Model &lt;chr&gt; | Group &lt;chr&gt; |\n",
       "|---|---|\n",
       "| vehicle_1 | A |\n",
       "| vehicle_2 | A |\n",
       "| vehicle_3 | A |\n",
       "| A_1       | B |\n",
       "| A_2       | B |\n",
       "| A_3       | B |\n",
       "\n"
      ],
      "text/plain": [
       "  Model     Group\n",
       "1 vehicle_1 A    \n",
       "2 vehicle_2 A    \n",
       "3 vehicle_3 A    \n",
       "4 A_1       B    \n",
       "5 A_2       B    \n",
       "6 A_3       B    "
      ]
     },
     "metadata": {},
     "output_type": "display_data"
    }
   ],
   "source": [
    "test_models <- data.frame()\n",
    "for (i in names(samples)){\n",
    "  test_models <- rbind(\n",
    "    test_models, \n",
    "    data.frame(Model = samples[[i]], Group = rep(i, length(samples[[i]])))\n",
    "  )\n",
    "}\n",
    "test_models"
   ]
  },
  {
   "cell_type": "markdown",
   "id": "75e96a3d",
   "metadata": {},
   "source": [
    "The samples will be coded A, B, and NotInStudy. "
   ]
  },
  {
   "cell_type": "code",
   "execution_count": 92,
   "id": "ec02ae81",
   "metadata": {},
   "outputs": [
    {
     "data": {
      "text/html": [
       "<table class=\"dataframe\">\n",
       "<caption>A data.frame: 12 × 2</caption>\n",
       "<thead>\n",
       "\t<tr><th scope=col>Model</th><th scope=col>Group</th></tr>\n",
       "\t<tr><th scope=col>&lt;chr&gt;</th><th scope=col>&lt;chr&gt;</th></tr>\n",
       "</thead>\n",
       "<tbody>\n",
       "\t<tr><td>A_1      </td><td>B </td></tr>\n",
       "\t<tr><td>vehicle_1</td><td>A </td></tr>\n",
       "\t<tr><td>A_2      </td><td>B </td></tr>\n",
       "\t<tr><td>vehicle_2</td><td>A </td></tr>\n",
       "\t<tr><td>A_3      </td><td>B </td></tr>\n",
       "\t<tr><td>vehicle_3</td><td>A </td></tr>\n",
       "\t<tr><td>B_2      </td><td>NA</td></tr>\n",
       "\t<tr><td>B_1      </td><td>NA</td></tr>\n",
       "\t<tr><td>B_3      </td><td>NA</td></tr>\n",
       "\t<tr><td>C_1      </td><td>NA</td></tr>\n",
       "\t<tr><td>C_2      </td><td>NA</td></tr>\n",
       "\t<tr><td>C_3      </td><td>NA</td></tr>\n",
       "</tbody>\n",
       "</table>\n"
      ],
      "text/latex": [
       "A data.frame: 12 × 2\n",
       "\\begin{tabular}{ll}\n",
       " Model & Group\\\\\n",
       " <chr> & <chr>\\\\\n",
       "\\hline\n",
       "\t A\\_1       & B \\\\\n",
       "\t vehicle\\_1 & A \\\\\n",
       "\t A\\_2       & B \\\\\n",
       "\t vehicle\\_2 & A \\\\\n",
       "\t A\\_3       & B \\\\\n",
       "\t vehicle\\_3 & A \\\\\n",
       "\t B\\_2       & NA\\\\\n",
       "\t B\\_1       & NA\\\\\n",
       "\t B\\_3       & NA\\\\\n",
       "\t C\\_1       & NA\\\\\n",
       "\t C\\_2       & NA\\\\\n",
       "\t C\\_3       & NA\\\\\n",
       "\\end{tabular}\n"
      ],
      "text/markdown": [
       "\n",
       "A data.frame: 12 × 2\n",
       "\n",
       "| Model &lt;chr&gt; | Group &lt;chr&gt; |\n",
       "|---|---|\n",
       "| A_1       | B  |\n",
       "| vehicle_1 | A  |\n",
       "| A_2       | B  |\n",
       "| vehicle_2 | A  |\n",
       "| A_3       | B  |\n",
       "| vehicle_3 | A  |\n",
       "| B_2       | NA |\n",
       "| B_1       | NA |\n",
       "| B_3       | NA |\n",
       "| C_1       | NA |\n",
       "| C_2       | NA |\n",
       "| C_3       | NA |\n",
       "\n"
      ],
      "text/plain": [
       "   Model     Group\n",
       "1  A_1       B    \n",
       "2  vehicle_1 A    \n",
       "3  A_2       B    \n",
       "4  vehicle_2 A    \n",
       "5  A_3       B    \n",
       "6  vehicle_3 A    \n",
       "7  B_2       NA   \n",
       "8  B_1       NA   \n",
       "9  B_3       NA   \n",
       "10 C_1       NA   \n",
       "11 C_2       NA   \n",
       "12 C_3       NA   "
      ]
     },
     "metadata": {},
     "output_type": "display_data"
    }
   ],
   "source": [
    "samplenames <- data.frame(Model = colnames(dat_lcpm))\n",
    "test_design <- merge(\n",
    "    samplenames, \n",
    "    test_models, \n",
    "    by = 'Model', \n",
    "    all.x = TRUE,\n",
    "    sort = FALSE\n",
    ")\n",
    "test_design"
   ]
  },
  {
   "cell_type": "code",
   "execution_count": 93,
   "id": "e9238e7b",
   "metadata": {},
   "outputs": [
    {
     "data": {
      "text/html": [
       "<table class=\"dataframe\">\n",
       "<caption>A data.frame: 12 × 2</caption>\n",
       "<thead>\n",
       "\t<tr><th scope=col>Model</th><th scope=col>Group</th></tr>\n",
       "\t<tr><th scope=col>&lt;chr&gt;</th><th scope=col>&lt;fct&gt;</th></tr>\n",
       "</thead>\n",
       "<tbody>\n",
       "\t<tr><td>A_1      </td><td>B         </td></tr>\n",
       "\t<tr><td>vehicle_1</td><td>A         </td></tr>\n",
       "\t<tr><td>A_2      </td><td>B         </td></tr>\n",
       "\t<tr><td>vehicle_2</td><td>A         </td></tr>\n",
       "\t<tr><td>A_3      </td><td>B         </td></tr>\n",
       "\t<tr><td>vehicle_3</td><td>A         </td></tr>\n",
       "\t<tr><td>B_2      </td><td>NotInStudy</td></tr>\n",
       "\t<tr><td>B_1      </td><td>NotInStudy</td></tr>\n",
       "\t<tr><td>B_3      </td><td>NotInStudy</td></tr>\n",
       "\t<tr><td>C_1      </td><td>NotInStudy</td></tr>\n",
       "\t<tr><td>C_2      </td><td>NotInStudy</td></tr>\n",
       "\t<tr><td>C_3      </td><td>NotInStudy</td></tr>\n",
       "</tbody>\n",
       "</table>\n"
      ],
      "text/latex": [
       "A data.frame: 12 × 2\n",
       "\\begin{tabular}{ll}\n",
       " Model & Group\\\\\n",
       " <chr> & <fct>\\\\\n",
       "\\hline\n",
       "\t A\\_1       & B         \\\\\n",
       "\t vehicle\\_1 & A         \\\\\n",
       "\t A\\_2       & B         \\\\\n",
       "\t vehicle\\_2 & A         \\\\\n",
       "\t A\\_3       & B         \\\\\n",
       "\t vehicle\\_3 & A         \\\\\n",
       "\t B\\_2       & NotInStudy\\\\\n",
       "\t B\\_1       & NotInStudy\\\\\n",
       "\t B\\_3       & NotInStudy\\\\\n",
       "\t C\\_1       & NotInStudy\\\\\n",
       "\t C\\_2       & NotInStudy\\\\\n",
       "\t C\\_3       & NotInStudy\\\\\n",
       "\\end{tabular}\n"
      ],
      "text/markdown": [
       "\n",
       "A data.frame: 12 × 2\n",
       "\n",
       "| Model &lt;chr&gt; | Group &lt;fct&gt; |\n",
       "|---|---|\n",
       "| A_1       | B          |\n",
       "| vehicle_1 | A          |\n",
       "| A_2       | B          |\n",
       "| vehicle_2 | A          |\n",
       "| A_3       | B          |\n",
       "| vehicle_3 | A          |\n",
       "| B_2       | NotInStudy |\n",
       "| B_1       | NotInStudy |\n",
       "| B_3       | NotInStudy |\n",
       "| C_1       | NotInStudy |\n",
       "| C_2       | NotInStudy |\n",
       "| C_3       | NotInStudy |\n",
       "\n"
      ],
      "text/plain": [
       "   Model     Group     \n",
       "1  A_1       B         \n",
       "2  vehicle_1 A         \n",
       "3  A_2       B         \n",
       "4  vehicle_2 A         \n",
       "5  A_3       B         \n",
       "6  vehicle_3 A         \n",
       "7  B_2       NotInStudy\n",
       "8  B_1       NotInStudy\n",
       "9  B_3       NotInStudy\n",
       "10 C_1       NotInStudy\n",
       "11 C_2       NotInStudy\n",
       "12 C_3       NotInStudy"
      ]
     },
     "metadata": {},
     "output_type": "display_data"
    }
   ],
   "source": [
    "test_design[is.na(test_design$Group), 'Group'] <- 'NotInStudy'\n",
    "test_design$Group <- factor(test_design$Group, levels = unique(test_design$Group))\n",
    "test_design"
   ]
  },
  {
   "cell_type": "markdown",
   "id": "0ec3772b",
   "metadata": {},
   "source": [
    "A critical detail is that our row positions in the design matrix must match the column positions in our count data, or else the results will be scrambled."
   ]
  },
  {
   "cell_type": "code",
   "execution_count": 94,
   "id": "de6f7995",
   "metadata": {
    "scrolled": true
   },
   "outputs": [
    {
     "data": {
      "text/html": [
       "<table class=\"dataframe\">\n",
       "<caption>A data.frame: 12 × 2</caption>\n",
       "<thead>\n",
       "\t<tr><th></th><th scope=col>Model</th><th scope=col>Group</th></tr>\n",
       "\t<tr><th></th><th scope=col>&lt;chr&gt;</th><th scope=col>&lt;fct&gt;</th></tr>\n",
       "</thead>\n",
       "<tbody>\n",
       "\t<tr><th scope=row>A_1</th><td>A_1      </td><td>B         </td></tr>\n",
       "\t<tr><th scope=row>B_1</th><td>B_1      </td><td>NotInStudy</td></tr>\n",
       "\t<tr><th scope=row>vehicle_1</th><td>vehicle_1</td><td>A         </td></tr>\n",
       "\t<tr><th scope=row>C_1</th><td>C_1      </td><td>NotInStudy</td></tr>\n",
       "\t<tr><th scope=row>A_2</th><td>A_2      </td><td>B         </td></tr>\n",
       "\t<tr><th scope=row>C_2</th><td>C_2      </td><td>NotInStudy</td></tr>\n",
       "\t<tr><th scope=row>vehicle_2</th><td>vehicle_2</td><td>A         </td></tr>\n",
       "\t<tr><th scope=row>C_3</th><td>C_3      </td><td>NotInStudy</td></tr>\n",
       "\t<tr><th scope=row>B_2</th><td>B_2      </td><td>NotInStudy</td></tr>\n",
       "\t<tr><th scope=row>A_3</th><td>A_3      </td><td>B         </td></tr>\n",
       "\t<tr><th scope=row>B_3</th><td>B_3      </td><td>NotInStudy</td></tr>\n",
       "\t<tr><th scope=row>vehicle_3</th><td>vehicle_3</td><td>A         </td></tr>\n",
       "</tbody>\n",
       "</table>\n"
      ],
      "text/latex": [
       "A data.frame: 12 × 2\n",
       "\\begin{tabular}{r|ll}\n",
       "  & Model & Group\\\\\n",
       "  & <chr> & <fct>\\\\\n",
       "\\hline\n",
       "\tA\\_1 & A\\_1       & B         \\\\\n",
       "\tB\\_1 & B\\_1       & NotInStudy\\\\\n",
       "\tvehicle\\_1 & vehicle\\_1 & A         \\\\\n",
       "\tC\\_1 & C\\_1       & NotInStudy\\\\\n",
       "\tA\\_2 & A\\_2       & B         \\\\\n",
       "\tC\\_2 & C\\_2       & NotInStudy\\\\\n",
       "\tvehicle\\_2 & vehicle\\_2 & A         \\\\\n",
       "\tC\\_3 & C\\_3       & NotInStudy\\\\\n",
       "\tB\\_2 & B\\_2       & NotInStudy\\\\\n",
       "\tA\\_3 & A\\_3       & B         \\\\\n",
       "\tB\\_3 & B\\_3       & NotInStudy\\\\\n",
       "\tvehicle\\_3 & vehicle\\_3 & A         \\\\\n",
       "\\end{tabular}\n"
      ],
      "text/markdown": [
       "\n",
       "A data.frame: 12 × 2\n",
       "\n",
       "| <!--/--> | Model &lt;chr&gt; | Group &lt;fct&gt; |\n",
       "|---|---|---|\n",
       "| A_1 | A_1       | B          |\n",
       "| B_1 | B_1       | NotInStudy |\n",
       "| vehicle_1 | vehicle_1 | A          |\n",
       "| C_1 | C_1       | NotInStudy |\n",
       "| A_2 | A_2       | B          |\n",
       "| C_2 | C_2       | NotInStudy |\n",
       "| vehicle_2 | vehicle_2 | A          |\n",
       "| C_3 | C_3       | NotInStudy |\n",
       "| B_2 | B_2       | NotInStudy |\n",
       "| A_3 | A_3       | B          |\n",
       "| B_3 | B_3       | NotInStudy |\n",
       "| vehicle_3 | vehicle_3 | A          |\n",
       "\n"
      ],
      "text/plain": [
       "          Model     Group     \n",
       "A_1       A_1       B         \n",
       "B_1       B_1       NotInStudy\n",
       "vehicle_1 vehicle_1 A         \n",
       "C_1       C_1       NotInStudy\n",
       "A_2       A_2       B         \n",
       "C_2       C_2       NotInStudy\n",
       "vehicle_2 vehicle_2 A         \n",
       "C_3       C_3       NotInStudy\n",
       "B_2       B_2       NotInStudy\n",
       "A_3       A_3       B         \n",
       "B_3       B_3       NotInStudy\n",
       "vehicle_3 vehicle_3 A         "
      ]
     },
     "metadata": {},
     "output_type": "display_data"
    }
   ],
   "source": [
    "rownames(test_design) <- test_design$Model\n",
    "test_design <- test_design[colnames(dat_lcpm),]\n",
    "test_design"
   ]
  },
  {
   "cell_type": "code",
   "execution_count": 95,
   "id": "e4f5188e",
   "metadata": {},
   "outputs": [
    {
     "data": {
      "text/html": [
       "<table class=\"dataframe\">\n",
       "<caption>A matrix: 12 × 3 of type dbl</caption>\n",
       "<thead>\n",
       "\t<tr><th></th><th scope=col>GroupB</th><th scope=col>GroupA</th><th scope=col>GroupNotInStudy</th></tr>\n",
       "</thead>\n",
       "<tbody>\n",
       "\t<tr><th scope=row>A_1</th><td>1</td><td>0</td><td>0</td></tr>\n",
       "\t<tr><th scope=row>B_1</th><td>0</td><td>0</td><td>1</td></tr>\n",
       "\t<tr><th scope=row>vehicle_1</th><td>0</td><td>1</td><td>0</td></tr>\n",
       "\t<tr><th scope=row>C_1</th><td>0</td><td>0</td><td>1</td></tr>\n",
       "\t<tr><th scope=row>A_2</th><td>1</td><td>0</td><td>0</td></tr>\n",
       "\t<tr><th scope=row>C_2</th><td>0</td><td>0</td><td>1</td></tr>\n",
       "\t<tr><th scope=row>vehicle_2</th><td>0</td><td>1</td><td>0</td></tr>\n",
       "\t<tr><th scope=row>C_3</th><td>0</td><td>0</td><td>1</td></tr>\n",
       "\t<tr><th scope=row>B_2</th><td>0</td><td>0</td><td>1</td></tr>\n",
       "\t<tr><th scope=row>A_3</th><td>1</td><td>0</td><td>0</td></tr>\n",
       "\t<tr><th scope=row>B_3</th><td>0</td><td>0</td><td>1</td></tr>\n",
       "\t<tr><th scope=row>vehicle_3</th><td>0</td><td>1</td><td>0</td></tr>\n",
       "</tbody>\n",
       "</table>\n"
      ],
      "text/latex": [
       "A matrix: 12 × 3 of type dbl\n",
       "\\begin{tabular}{r|lll}\n",
       "  & GroupB & GroupA & GroupNotInStudy\\\\\n",
       "\\hline\n",
       "\tA\\_1 & 1 & 0 & 0\\\\\n",
       "\tB\\_1 & 0 & 0 & 1\\\\\n",
       "\tvehicle\\_1 & 0 & 1 & 0\\\\\n",
       "\tC\\_1 & 0 & 0 & 1\\\\\n",
       "\tA\\_2 & 1 & 0 & 0\\\\\n",
       "\tC\\_2 & 0 & 0 & 1\\\\\n",
       "\tvehicle\\_2 & 0 & 1 & 0\\\\\n",
       "\tC\\_3 & 0 & 0 & 1\\\\\n",
       "\tB\\_2 & 0 & 0 & 1\\\\\n",
       "\tA\\_3 & 1 & 0 & 0\\\\\n",
       "\tB\\_3 & 0 & 0 & 1\\\\\n",
       "\tvehicle\\_3 & 0 & 1 & 0\\\\\n",
       "\\end{tabular}\n"
      ],
      "text/markdown": [
       "\n",
       "A matrix: 12 × 3 of type dbl\n",
       "\n",
       "| <!--/--> | GroupB | GroupA | GroupNotInStudy |\n",
       "|---|---|---|---|\n",
       "| A_1 | 1 | 0 | 0 |\n",
       "| B_1 | 0 | 0 | 1 |\n",
       "| vehicle_1 | 0 | 1 | 0 |\n",
       "| C_1 | 0 | 0 | 1 |\n",
       "| A_2 | 1 | 0 | 0 |\n",
       "| C_2 | 0 | 0 | 1 |\n",
       "| vehicle_2 | 0 | 1 | 0 |\n",
       "| C_3 | 0 | 0 | 1 |\n",
       "| B_2 | 0 | 0 | 1 |\n",
       "| A_3 | 1 | 0 | 0 |\n",
       "| B_3 | 0 | 0 | 1 |\n",
       "| vehicle_3 | 0 | 1 | 0 |\n",
       "\n"
      ],
      "text/plain": [
       "          GroupB GroupA GroupNotInStudy\n",
       "A_1       1      0      0              \n",
       "B_1       0      0      1              \n",
       "vehicle_1 0      1      0              \n",
       "C_1       0      0      1              \n",
       "A_2       1      0      0              \n",
       "C_2       0      0      1              \n",
       "vehicle_2 0      1      0              \n",
       "C_3       0      0      1              \n",
       "B_2       0      0      1              \n",
       "A_3       1      0      0              \n",
       "B_3       0      0      1              \n",
       "vehicle_3 0      1      0              "
      ]
     },
     "metadata": {},
     "output_type": "display_data"
    }
   ],
   "source": [
    "design <- model.matrix(~0+Group, test_design)\n",
    "design"
   ]
  },
  {
   "cell_type": "markdown",
   "id": "e1a04d0e",
   "metadata": {},
   "source": [
    "## 6. DGE with package limma"
   ]
  },
  {
   "cell_type": "code",
   "execution_count": 144,
   "id": "7e7cc129",
   "metadata": {},
   "outputs": [
    {
     "data": {
      "text/plain": [
       "       GroupB GroupA GroupNotInStudy\n",
       "Down      494    533             787\n",
       "NotSig   2116   2080            1542\n",
       "Up      11751  11748           12032"
      ]
     },
     "metadata": {},
     "output_type": "display_data"
    }
   ],
   "source": [
    "contr_matrix <- limma::makeContrasts(\n",
    "  AvsB = GroupA  - GroupB, \n",
    "  levels = colnames(design)\n",
    ")\n",
    "fit <- limma::lmFit(dat_lcpm, design = design)\n",
    "vfit <- limma::contrasts.fit(fit, contrasts = contr_matrix)\n",
    "efit <- limma::eBayes(vfit, robust = T, trend = T)\n",
    "lim <- limma::topTable(efit, number = Inf)\n",
    "\n",
    "res <- limma::decideTests(fit, p.value=0.01)\n",
    "summary(res)"
   ]
  },
  {
   "cell_type": "code",
   "execution_count": 146,
   "id": "6440aa7e",
   "metadata": {},
   "outputs": [
    {
     "data": {
      "text/html": [
       "<table class=\"dataframe\">\n",
       "<caption>A data.frame: 6 × 6</caption>\n",
       "<thead>\n",
       "\t<tr><th></th><th scope=col>logFC</th><th scope=col>AveExpr</th><th scope=col>t</th><th scope=col>PValue</th><th scope=col>adjPVal</th><th scope=col>B</th></tr>\n",
       "\t<tr><th></th><th scope=col>&lt;dbl&gt;</th><th scope=col>&lt;dbl&gt;</th><th scope=col>&lt;dbl&gt;</th><th scope=col>&lt;dbl&gt;</th><th scope=col>&lt;dbl&gt;</th><th scope=col>&lt;dbl&gt;</th></tr>\n",
       "</thead>\n",
       "<tbody>\n",
       "\t<tr><th scope=row>DDT</th><td>1.642594</td><td>5.028632</td><td>9.078759</td><td>8.305839e-07</td><td>0.00901724</td><td>5.942825</td></tr>\n",
       "\t<tr><th scope=row>ZNF787</th><td>1.481911</td><td>5.169803</td><td>8.275110</td><td>2.237760e-06</td><td>0.00901724</td><td>5.091929</td></tr>\n",
       "\t<tr><th scope=row>FBRSL1</th><td>1.461616</td><td>6.379390</td><td>8.241889</td><td>2.334826e-06</td><td>0.00901724</td><td>5.054929</td></tr>\n",
       "\t<tr><th scope=row>LRFN4</th><td>2.483240</td><td>3.702051</td><td>8.214309</td><td>2.511591e-06</td><td>0.00901724</td><td>4.991140</td></tr>\n",
       "\t<tr><th scope=row>RBM38</th><td>1.085727</td><td>5.223225</td><td>7.791460</td><td>4.203860e-06</td><td>0.01026739</td><td>4.538214</td></tr>\n",
       "\t<tr><th scope=row>TMUB1</th><td>1.330901</td><td>4.615554</td><td>7.776291</td><td>4.289696e-06</td><td>0.01026739</td><td>4.520316</td></tr>\n",
       "</tbody>\n",
       "</table>\n"
      ],
      "text/latex": [
       "A data.frame: 6 × 6\n",
       "\\begin{tabular}{r|llllll}\n",
       "  & logFC & AveExpr & t & PValue & adjPVal & B\\\\\n",
       "  & <dbl> & <dbl> & <dbl> & <dbl> & <dbl> & <dbl>\\\\\n",
       "\\hline\n",
       "\tDDT & 1.642594 & 5.028632 & 9.078759 & 8.305839e-07 & 0.00901724 & 5.942825\\\\\n",
       "\tZNF787 & 1.481911 & 5.169803 & 8.275110 & 2.237760e-06 & 0.00901724 & 5.091929\\\\\n",
       "\tFBRSL1 & 1.461616 & 6.379390 & 8.241889 & 2.334826e-06 & 0.00901724 & 5.054929\\\\\n",
       "\tLRFN4 & 2.483240 & 3.702051 & 8.214309 & 2.511591e-06 & 0.00901724 & 4.991140\\\\\n",
       "\tRBM38 & 1.085727 & 5.223225 & 7.791460 & 4.203860e-06 & 0.01026739 & 4.538214\\\\\n",
       "\tTMUB1 & 1.330901 & 4.615554 & 7.776291 & 4.289696e-06 & 0.01026739 & 4.520316\\\\\n",
       "\\end{tabular}\n"
      ],
      "text/markdown": [
       "\n",
       "A data.frame: 6 × 6\n",
       "\n",
       "| <!--/--> | logFC &lt;dbl&gt; | AveExpr &lt;dbl&gt; | t &lt;dbl&gt; | PValue &lt;dbl&gt; | adjPVal &lt;dbl&gt; | B &lt;dbl&gt; |\n",
       "|---|---|---|---|---|---|---|\n",
       "| DDT | 1.642594 | 5.028632 | 9.078759 | 8.305839e-07 | 0.00901724 | 5.942825 |\n",
       "| ZNF787 | 1.481911 | 5.169803 | 8.275110 | 2.237760e-06 | 0.00901724 | 5.091929 |\n",
       "| FBRSL1 | 1.461616 | 6.379390 | 8.241889 | 2.334826e-06 | 0.00901724 | 5.054929 |\n",
       "| LRFN4 | 2.483240 | 3.702051 | 8.214309 | 2.511591e-06 | 0.00901724 | 4.991140 |\n",
       "| RBM38 | 1.085727 | 5.223225 | 7.791460 | 4.203860e-06 | 0.01026739 | 4.538214 |\n",
       "| TMUB1 | 1.330901 | 4.615554 | 7.776291 | 4.289696e-06 | 0.01026739 | 4.520316 |\n",
       "\n"
      ],
      "text/plain": [
       "       logFC    AveExpr  t        PValue       adjPVal    B       \n",
       "DDT    1.642594 5.028632 9.078759 8.305839e-07 0.00901724 5.942825\n",
       "ZNF787 1.481911 5.169803 8.275110 2.237760e-06 0.00901724 5.091929\n",
       "FBRSL1 1.461616 6.379390 8.241889 2.334826e-06 0.00901724 5.054929\n",
       "LRFN4  2.483240 3.702051 8.214309 2.511591e-06 0.00901724 4.991140\n",
       "RBM38  1.085727 5.223225 7.791460 4.203860e-06 0.01026739 4.538214\n",
       "TMUB1  1.330901 4.615554 7.776291 4.289696e-06 0.01026739 4.520316"
      ]
     },
     "metadata": {},
     "output_type": "display_data"
    }
   ],
   "source": [
    "colnames(lim) <- gsub(pattern = '\\\\.','',colnames(lim))\n",
    "head(lim)"
   ]
  },
  {
   "cell_type": "markdown",
   "id": "faac5485",
   "metadata": {},
   "source": [
    "## 7. DGE with package DESeq2\n",
    "Unlike limma, the DESeq2 package requires we supply it with raw counts rather than normalized counts."
   ]
  },
  {
   "cell_type": "code",
   "execution_count": 115,
   "id": "5f5346e0",
   "metadata": {},
   "outputs": [
    {
     "name": "stderr",
     "output_type": "stream",
     "text": [
      "using supplied model matrix\n",
      "\n",
      "estimating size factors\n",
      "\n",
      "estimating dispersions\n",
      "\n",
      "gene-wise dispersion estimates\n",
      "\n",
      "mean-dispersion relationship\n",
      "\n",
      "final dispersion estimates\n",
      "\n",
      "fitting model and testing\n",
      "\n"
     ]
    },
    {
     "data": {
      "text/html": [
       "<table class=\"dataframe\">\n",
       "<caption>A data.frame: 6 × 6</caption>\n",
       "<thead>\n",
       "\t<tr><th></th><th scope=col>baseMean</th><th scope=col>log2FoldChange</th><th scope=col>lfcSE</th><th scope=col>stat</th><th scope=col>pvalue</th><th scope=col>padj</th></tr>\n",
       "\t<tr><th></th><th scope=col>&lt;dbl&gt;</th><th scope=col>&lt;dbl&gt;</th><th scope=col>&lt;dbl&gt;</th><th scope=col>&lt;dbl&gt;</th><th scope=col>&lt;dbl&gt;</th><th scope=col>&lt;dbl&gt;</th></tr>\n",
       "</thead>\n",
       "<tbody>\n",
       "\t<tr><th scope=row>A1BG</th><td>209.7286035</td><td> 8.0978874</td><td>0.1871206</td><td>43.2762982</td><td> 0.000000e+00</td><td> 0.000000e+00</td></tr>\n",
       "\t<tr><th scope=row>A1BG-AS1</th><td>208.8946834</td><td> 7.8862533</td><td>0.2063827</td><td>38.2117949</td><td> 0.000000e+00</td><td> 0.000000e+00</td></tr>\n",
       "\t<tr><th scope=row>A1CF</th><td>  0.0000000</td><td>        NA</td><td>       NA</td><td>        NA</td><td>           NA</td><td>           NA</td></tr>\n",
       "\t<tr><th scope=row>A2M</th><td>  0.2776903</td><td>-0.7628297</td><td>2.1919097</td><td>-0.3480206</td><td> 7.278247e-01</td><td> 7.712672e-01</td></tr>\n",
       "\t<tr><th scope=row>A2M-AS1</th><td> 15.6505128</td><td> 3.7149824</td><td>0.4191566</td><td> 8.8629938</td><td> 7.789391e-19</td><td> 1.217968e-18</td></tr>\n",
       "\t<tr><th scope=row>A2ML1</th><td>940.4528834</td><td>10.3011191</td><td>0.3819061</td><td>26.9729090</td><td>3.073176e-160</td><td>5.931920e-160</td></tr>\n",
       "</tbody>\n",
       "</table>\n"
      ],
      "text/latex": [
       "A data.frame: 6 × 6\n",
       "\\begin{tabular}{r|llllll}\n",
       "  & baseMean & log2FoldChange & lfcSE & stat & pvalue & padj\\\\\n",
       "  & <dbl> & <dbl> & <dbl> & <dbl> & <dbl> & <dbl>\\\\\n",
       "\\hline\n",
       "\tA1BG & 209.7286035 &  8.0978874 & 0.1871206 & 43.2762982 &  0.000000e+00 &  0.000000e+00\\\\\n",
       "\tA1BG-AS1 & 208.8946834 &  7.8862533 & 0.2063827 & 38.2117949 &  0.000000e+00 &  0.000000e+00\\\\\n",
       "\tA1CF &   0.0000000 &         NA &        NA &         NA &            NA &            NA\\\\\n",
       "\tA2M &   0.2776903 & -0.7628297 & 2.1919097 & -0.3480206 &  7.278247e-01 &  7.712672e-01\\\\\n",
       "\tA2M-AS1 &  15.6505128 &  3.7149824 & 0.4191566 &  8.8629938 &  7.789391e-19 &  1.217968e-18\\\\\n",
       "\tA2ML1 & 940.4528834 & 10.3011191 & 0.3819061 & 26.9729090 & 3.073176e-160 & 5.931920e-160\\\\\n",
       "\\end{tabular}\n"
      ],
      "text/markdown": [
       "\n",
       "A data.frame: 6 × 6\n",
       "\n",
       "| <!--/--> | baseMean &lt;dbl&gt; | log2FoldChange &lt;dbl&gt; | lfcSE &lt;dbl&gt; | stat &lt;dbl&gt; | pvalue &lt;dbl&gt; | padj &lt;dbl&gt; |\n",
       "|---|---|---|---|---|---|---|\n",
       "| A1BG | 209.7286035 |  8.0978874 | 0.1871206 | 43.2762982 |  0.000000e+00 |  0.000000e+00 |\n",
       "| A1BG-AS1 | 208.8946834 |  7.8862533 | 0.2063827 | 38.2117949 |  0.000000e+00 |  0.000000e+00 |\n",
       "| A1CF |   0.0000000 |         NA |        NA |         NA |            NA |            NA |\n",
       "| A2M |   0.2776903 | -0.7628297 | 2.1919097 | -0.3480206 |  7.278247e-01 |  7.712672e-01 |\n",
       "| A2M-AS1 |  15.6505128 |  3.7149824 | 0.4191566 |  8.8629938 |  7.789391e-19 |  1.217968e-18 |\n",
       "| A2ML1 | 940.4528834 | 10.3011191 | 0.3819061 | 26.9729090 | 3.073176e-160 | 5.931920e-160 |\n",
       "\n"
      ],
      "text/plain": [
       "         baseMean    log2FoldChange lfcSE     stat       pvalue       \n",
       "A1BG     209.7286035  8.0978874     0.1871206 43.2762982  0.000000e+00\n",
       "A1BG-AS1 208.8946834  7.8862533     0.2063827 38.2117949  0.000000e+00\n",
       "A1CF       0.0000000         NA            NA         NA            NA\n",
       "A2M        0.2776903 -0.7628297     2.1919097 -0.3480206  7.278247e-01\n",
       "A2M-AS1   15.6505128  3.7149824     0.4191566  8.8629938  7.789391e-19\n",
       "A2ML1    940.4528834 10.3011191     0.3819061 26.9729090 3.073176e-160\n",
       "         padj         \n",
       "A1BG      0.000000e+00\n",
       "A1BG-AS1  0.000000e+00\n",
       "A1CF                NA\n",
       "A2M       7.712672e-01\n",
       "A2M-AS1   1.217968e-18\n",
       "A2ML1    5.931920e-160"
      ]
     },
     "metadata": {},
     "output_type": "display_data"
    }
   ],
   "source": [
    "des_dat <- DESeqDataSetFromMatrix(countData = dat_m, colData = test_design, design = design) \n",
    "des <- DESeq(des_dat)\n",
    "des <- as.data.frame(results(des))\n",
    "head(des)"
   ]
  },
  {
   "cell_type": "code",
   "execution_count": 147,
   "id": "64299929",
   "metadata": {},
   "outputs": [
    {
     "data": {
      "text/html": [
       "<table class=\"dataframe\">\n",
       "<caption>A data.frame: 6 × 7</caption>\n",
       "<thead>\n",
       "\t<tr><th></th><th scope=col>Gene</th><th scope=col>PValue_limma</th><th scope=col>adjPVal_limma</th><th scope=col>logFC_limma</th><th scope=col>pvalue_DESeq</th><th scope=col>padj_DESeq</th><th scope=col>log2FoldChange_DESeq</th></tr>\n",
       "\t<tr><th></th><th scope=col>&lt;chr&gt;</th><th scope=col>&lt;dbl&gt;</th><th scope=col>&lt;dbl&gt;</th><th scope=col>&lt;dbl&gt;</th><th scope=col>&lt;dbl&gt;</th><th scope=col>&lt;dbl&gt;</th><th scope=col>&lt;dbl&gt;</th></tr>\n",
       "</thead>\n",
       "<tbody>\n",
       "\t<tr><th scope=row>1</th><td>A1BG    </td><td>0.01474514</td><td>0.1902237</td><td> 1.005501605</td><td> 0.000000e+00</td><td> 0.000000e+00</td><td> 8.097887</td></tr>\n",
       "\t<tr><th scope=row>2</th><td>A1BG-AS1</td><td>0.29018884</td><td>0.6753204</td><td>-0.450562487</td><td> 0.000000e+00</td><td> 0.000000e+00</td><td> 7.886253</td></tr>\n",
       "\t<tr><th scope=row>3</th><td>A2M-AS1 </td><td>0.99909504</td><td>0.9998542</td><td>-0.001023591</td><td> 7.789391e-19</td><td> 1.217968e-18</td><td> 3.714982</td></tr>\n",
       "\t<tr><th scope=row>4</th><td>A2ML1   </td><td>0.04513458</td><td>0.3235799</td><td>-1.904547068</td><td>3.073176e-160</td><td>5.931920e-160</td><td>10.301119</td></tr>\n",
       "\t<tr><th scope=row>5</th><td>AAAS    </td><td>0.79640765</td><td>0.9507145</td><td>-0.055513621</td><td> 0.000000e+00</td><td> 0.000000e+00</td><td>10.312942</td></tr>\n",
       "\t<tr><th scope=row>6</th><td>AACS    </td><td>0.79351349</td><td>0.9500624</td><td> 0.087857330</td><td> 0.000000e+00</td><td> 0.000000e+00</td><td>10.892855</td></tr>\n",
       "</tbody>\n",
       "</table>\n"
      ],
      "text/latex": [
       "A data.frame: 6 × 7\n",
       "\\begin{tabular}{r|lllllll}\n",
       "  & Gene & PValue\\_limma & adjPVal\\_limma & logFC\\_limma & pvalue\\_DESeq & padj\\_DESeq & log2FoldChange\\_DESeq\\\\\n",
       "  & <chr> & <dbl> & <dbl> & <dbl> & <dbl> & <dbl> & <dbl>\\\\\n",
       "\\hline\n",
       "\t1 & A1BG     & 0.01474514 & 0.1902237 &  1.005501605 &  0.000000e+00 &  0.000000e+00 &  8.097887\\\\\n",
       "\t2 & A1BG-AS1 & 0.29018884 & 0.6753204 & -0.450562487 &  0.000000e+00 &  0.000000e+00 &  7.886253\\\\\n",
       "\t3 & A2M-AS1  & 0.99909504 & 0.9998542 & -0.001023591 &  7.789391e-19 &  1.217968e-18 &  3.714982\\\\\n",
       "\t4 & A2ML1    & 0.04513458 & 0.3235799 & -1.904547068 & 3.073176e-160 & 5.931920e-160 & 10.301119\\\\\n",
       "\t5 & AAAS     & 0.79640765 & 0.9507145 & -0.055513621 &  0.000000e+00 &  0.000000e+00 & 10.312942\\\\\n",
       "\t6 & AACS     & 0.79351349 & 0.9500624 &  0.087857330 &  0.000000e+00 &  0.000000e+00 & 10.892855\\\\\n",
       "\\end{tabular}\n"
      ],
      "text/markdown": [
       "\n",
       "A data.frame: 6 × 7\n",
       "\n",
       "| <!--/--> | Gene &lt;chr&gt; | PValue_limma &lt;dbl&gt; | adjPVal_limma &lt;dbl&gt; | logFC_limma &lt;dbl&gt; | pvalue_DESeq &lt;dbl&gt; | padj_DESeq &lt;dbl&gt; | log2FoldChange_DESeq &lt;dbl&gt; |\n",
       "|---|---|---|---|---|---|---|---|\n",
       "| 1 | A1BG     | 0.01474514 | 0.1902237 |  1.005501605 |  0.000000e+00 |  0.000000e+00 |  8.097887 |\n",
       "| 2 | A1BG-AS1 | 0.29018884 | 0.6753204 | -0.450562487 |  0.000000e+00 |  0.000000e+00 |  7.886253 |\n",
       "| 3 | A2M-AS1  | 0.99909504 | 0.9998542 | -0.001023591 |  7.789391e-19 |  1.217968e-18 |  3.714982 |\n",
       "| 4 | A2ML1    | 0.04513458 | 0.3235799 | -1.904547068 | 3.073176e-160 | 5.931920e-160 | 10.301119 |\n",
       "| 5 | AAAS     | 0.79640765 | 0.9507145 | -0.055513621 |  0.000000e+00 |  0.000000e+00 | 10.312942 |\n",
       "| 6 | AACS     | 0.79351349 | 0.9500624 |  0.087857330 |  0.000000e+00 |  0.000000e+00 | 10.892855 |\n",
       "\n"
      ],
      "text/plain": [
       "  Gene     PValue_limma adjPVal_limma logFC_limma  pvalue_DESeq  padj_DESeq   \n",
       "1 A1BG     0.01474514   0.1902237      1.005501605  0.000000e+00  0.000000e+00\n",
       "2 A1BG-AS1 0.29018884   0.6753204     -0.450562487  0.000000e+00  0.000000e+00\n",
       "3 A2M-AS1  0.99909504   0.9998542     -0.001023591  7.789391e-19  1.217968e-18\n",
       "4 A2ML1    0.04513458   0.3235799     -1.904547068 3.073176e-160 5.931920e-160\n",
       "5 AAAS     0.79640765   0.9507145     -0.055513621  0.000000e+00  0.000000e+00\n",
       "6 AACS     0.79351349   0.9500624      0.087857330  0.000000e+00  0.000000e+00\n",
       "  log2FoldChange_DESeq\n",
       "1  8.097887           \n",
       "2  7.886253           \n",
       "3  3.714982           \n",
       "4 10.301119           \n",
       "5 10.312942           \n",
       "6 10.892855           "
      ]
     },
     "metadata": {},
     "output_type": "display_data"
    }
   ],
   "source": [
    "tmp_des <- des[,c('pvalue', 'padj', 'log2FoldChange')]\n",
    "tmp_des$Gene <- rownames(tmp_des)\n",
    "tmp_lim <- lim[,c('PValue', 'adjPVal', 'logFC')]\n",
    "colnames(tmp_lim)[1:3] <- paste0(colnames(tmp_lim)[1:3], \"_limma\")\n",
    "colnames(tmp_des)[1:3] <- paste0(colnames(tmp_des)[1:3], \"_DESeq\")\n",
    "tmp_lim$Gene <- rownames(tmp_lim)\n",
    "comb <- merge(tmp_lim, tmp_des, on=\"Gene\")\n",
    "head(comb)"
   ]
  },
  {
   "cell_type": "code",
   "execution_count": 149,
   "id": "0419484b",
   "metadata": {},
   "outputs": [
    {
     "data": {
      "text/html": [
       "0.00387931497101297"
      ],
      "text/latex": [
       "0.00387931497101297"
      ],
      "text/markdown": [
       "0.00387931497101297"
      ],
      "text/plain": [
       "[1] 0.003879315"
      ]
     },
     "metadata": {},
     "output_type": "display_data"
    }
   ],
   "source": [
    "zz <- comb[c('adjPVal_limma', 'padj_DESeq')]\n",
    "zz <- na.omit(zz)\n",
    "cor(zz$adjPVal_limma, zz$padj_DESeq)"
   ]
  },
  {
   "cell_type": "code",
   "execution_count": 150,
   "id": "819a84ce",
   "metadata": {},
   "outputs": [
    {
     "data": {
      "text/html": [
       "-0.031040848409363"
      ],
      "text/latex": [
       "-0.031040848409363"
      ],
      "text/markdown": [
       "-0.031040848409363"
      ],
      "text/plain": [
       "[1] -0.03104085"
      ]
     },
     "metadata": {},
     "output_type": "display_data"
    }
   ],
   "source": [
    "cor(comb$logFC_limma, comb$log2FoldChange_DESeq)"
   ]
  }
 ],
 "metadata": {
  "kernelspec": {
   "display_name": "R",
   "language": "R",
   "name": "ir"
  }
 },
 "nbformat": 4,
 "nbformat_minor": 5
}
