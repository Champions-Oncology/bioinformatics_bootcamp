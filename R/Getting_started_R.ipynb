{
 "cells": [
  {
   "cell_type": "markdown",
   "id": "481d2aeb",
   "metadata": {},
   "source": [
    "### Reading Data\n",
    "Data are stored in so many formats there could never be a single way to read them all and retain the strengths of the format. Base R does a great job reading tabular data and simple text files, but for specialized file types you'll need to load a library containing functions someone else has written to deserialize the data and translate it into a standard R object type.  \n",
    "\n",
    "Before you read in your data, spend two seconds thinking about the name you will use to refer to it once it loads, then you can go ahead and assign (`<-`) the output of the read function to a named object. Here are some common data types you might read using the Champions Workspace.  "
   ]
  },
  {
   "cell_type": "markdown",
   "id": "bc0f1f7c",
   "metadata": {},
   "source": [
    "**CSV**"
   ]
  },
  {
   "cell_type": "code",
   "execution_count": null,
   "id": "6fa88222",
   "metadata": {},
   "outputs": [],
   "source": [
    "dat <- read.csv(\"../your_file.csv\")"
   ]
  },
  {
   "cell_type": "markdown",
   "id": "db9f4267",
   "metadata": {},
   "source": [
    "**JSON**"
   ]
  },
  {
   "cell_type": "code",
   "execution_count": null,
   "id": "8143d5b5",
   "metadata": {},
   "outputs": [],
   "source": [
    "library(jsonlite)\n",
    "dat <- fromJSON(\"../your_file.json\")"
   ]
  },
  {
   "cell_type": "markdown",
   "id": "0bba4bc0",
   "metadata": {},
   "source": [
    "**Excel**"
   ]
  },
  {
   "cell_type": "code",
   "execution_count": null,
   "id": "189ece2a",
   "metadata": {},
   "outputs": [],
   "source": [
    "library(readxl)\n",
    "dat <- read_excel(\"../your_file.xls\")\n",
    "dat <- read_excel(\"../your_file.xlsx\")"
   ]
  },
  {
   "cell_type": "markdown",
   "id": "91cd3087",
   "metadata": {},
   "source": [
    "**Big Data**"
   ]
  },
  {
   "cell_type": "code",
   "execution_count": null,
   "id": "5ad3be1a",
   "metadata": {},
   "outputs": [],
   "source": [
    "library(data.table)\n",
    "dat <- fread(\"../your_file.csv\")"
   ]
  },
  {
   "cell_type": "markdown",
   "id": "75aa043c",
   "metadata": {},
   "source": [
    "If you read in a CSV or Excel sheet you will probably recognize the resulting table of class `data.frame`. If you read in a JSON you might recognize the result as a table if it was a table before being serialized as JSON. If it was anything other than a table, what you see in the `dat` object will be a `list`. "
   ]
  },
  {
   "cell_type": "markdown",
   "id": "e1ce1b20",
   "metadata": {},
   "source": [
    "## Whitespace is Meaningless in R\n",
    "One of the joys of R is that it doesn't derive meaning from whitespace. Your code can be as tidy as you want, without generating errors due to a misplaced tab. Personally I like to wrap function calls with lots of arguments to make them easier to read. While python uses whitespace to group lines of code into a single expression, R uses curly braces for the same purpose.    "
   ]
  },
  {
   "cell_type": "code",
   "execution_count": null,
   "id": "b9a7f740",
   "metadata": {},
   "outputs": [],
   "source": [
    "suppressStartupMessages({\n",
    "  library(data.table)\n",
    "  library(jsonlite)\n",
    "  library(readxl)\n",
    "})"
   ]
  },
  {
   "cell_type": "markdown",
   "id": "2c7a0da8",
   "metadata": {},
   "source": [
    "## Comments\n",
    "The R comment character is the hash (as with python), but the fun thing about a Jupyter Notebook is you don't need to comment your code inside a code block, you can use markdown and expand your comments into a story.  "
   ]
  },
  {
   "cell_type": "code",
   "execution_count": 4,
   "id": "c63d1ba6",
   "metadata": {},
   "outputs": [
    {
     "data": {
      "text/html": [
       "<style>\n",
       ".list-inline {list-style: none; margin:0; padding: 0}\n",
       ".list-inline>li {display: inline-block}\n",
       ".list-inline>li:not(:last-child)::after {content: \"\\00b7\"; padding: 0 .5ex}\n",
       "</style>\n",
       "<ol class=list-inline><li>'champions-starter-materials'</li><li>'lost+found'</li><li>'Untitled.ipynb'</li></ol>\n"
      ],
      "text/latex": [
       "\\begin{enumerate*}\n",
       "\\item 'champions-starter-materials'\n",
       "\\item 'lost+found'\n",
       "\\item 'Untitled.ipynb'\n",
       "\\end{enumerate*}\n"
      ],
      "text/markdown": [
       "1. 'champions-starter-materials'\n",
       "2. 'lost+found'\n",
       "3. 'Untitled.ipynb'\n",
       "\n",
       "\n"
      ],
      "text/plain": [
       "[1] \"champions-starter-materials\" \"lost+found\"                 \n",
       "[3] \"Untitled.ipynb\"             "
      ]
     },
     "metadata": {},
     "output_type": "display_data"
    }
   ],
   "source": [
    "# This hash symbol tells R not to evaluate this line, or the next one\n",
    "# getwd()\n",
    "list.files()"
   ]
  },
  {
   "cell_type": "markdown",
   "id": "25a6eb6a",
   "metadata": {},
   "source": [
    "## Object types\n",
    "The most important thing to know about R is the object types for holding data, and the second most important thing to know is how to retrieve that data."
   ]
  },
  {
   "cell_type": "code",
   "execution_count": 16,
   "id": "8dbd5ae4",
   "metadata": {},
   "outputs": [],
   "source": [
    "# text must be quoted\n",
    "a <- \"test\""
   ]
  },
  {
   "cell_type": "code",
   "execution_count": 15,
   "id": "bde22353",
   "metadata": {},
   "outputs": [
    {
     "ename": "ERROR",
     "evalue": "Error in eval(expr, envir, enclos): object 'take2' not found\n",
     "output_type": "error",
     "traceback": [
      "Error in eval(expr, envir, enclos): object 'take2' not found\nTraceback:\n"
     ]
    }
   ],
   "source": [
    "# if it is not R will search for an object name instead\n",
    "b <- take2"
   ]
  },
  {
   "cell_type": "markdown",
   "id": "fce3e56b",
   "metadata": {},
   "source": [
    "The colon operator generates an inclusive sequence, increasing by 1. This is useful for indexing"
   ]
  },
  {
   "cell_type": "code",
   "execution_count": 5,
   "id": "7c259bca",
   "metadata": {},
   "outputs": [
    {
     "data": {
      "text/html": [
       "<style>\n",
       ".list-inline {list-style: none; margin:0; padding: 0}\n",
       ".list-inline>li {display: inline-block}\n",
       ".list-inline>li:not(:last-child)::after {content: \"\\00b7\"; padding: 0 .5ex}\n",
       "</style>\n",
       "<ol class=list-inline><li>2</li><li>3</li><li>4</li><li>5</li><li>6</li><li>7</li><li>8</li><li>9</li><li>10</li><li>11</li><li>12</li><li>13</li><li>14</li></ol>\n"
      ],
      "text/latex": [
       "\\begin{enumerate*}\n",
       "\\item 2\n",
       "\\item 3\n",
       "\\item 4\n",
       "\\item 5\n",
       "\\item 6\n",
       "\\item 7\n",
       "\\item 8\n",
       "\\item 9\n",
       "\\item 10\n",
       "\\item 11\n",
       "\\item 12\n",
       "\\item 13\n",
       "\\item 14\n",
       "\\end{enumerate*}\n"
      ],
      "text/markdown": [
       "1. 2\n",
       "2. 3\n",
       "3. 4\n",
       "4. 5\n",
       "5. 6\n",
       "6. 7\n",
       "7. 8\n",
       "8. 9\n",
       "9. 10\n",
       "10. 11\n",
       "11. 12\n",
       "12. 13\n",
       "13. 14\n",
       "\n",
       "\n"
      ],
      "text/plain": [
       " [1]  2  3  4  5  6  7  8  9 10 11 12 13 14"
      ]
     },
     "metadata": {},
     "output_type": "display_data"
    }
   ],
   "source": [
    "2:14"
   ]
  },
  {
   "cell_type": "markdown",
   "id": "65a832e9",
   "metadata": {},
   "source": [
    "vectors are one-dimensional and must contain a single data type. "
   ]
  },
  {
   "cell_type": "code",
   "execution_count": 19,
   "id": "ec95d037",
   "metadata": {},
   "outputs": [
    {
     "data": {
      "text/html": [
       "<style>\n",
       ".list-inline {list-style: none; margin:0; padding: 0}\n",
       ".list-inline>li {display: inline-block}\n",
       ".list-inline>li:not(:last-child)::after {content: \"\\00b7\"; padding: 0 .5ex}\n",
       "</style>\n",
       "<ol class=list-inline><li>1</li><li>2</li><li>3</li><li>4</li><li>5</li></ol>\n"
      ],
      "text/latex": [
       "\\begin{enumerate*}\n",
       "\\item 1\n",
       "\\item 2\n",
       "\\item 3\n",
       "\\item 4\n",
       "\\item 5\n",
       "\\end{enumerate*}\n"
      ],
      "text/markdown": [
       "1. 1\n",
       "2. 2\n",
       "3. 3\n",
       "4. 4\n",
       "5. 5\n",
       "\n",
       "\n"
      ],
      "text/plain": [
       "[1] 1 2 3 4 5"
      ]
     },
     "metadata": {},
     "output_type": "display_data"
    },
    {
     "data": {
      "text/html": [
       "<style>\n",
       ".list-inline {list-style: none; margin:0; padding: 0}\n",
       ".list-inline>li {display: inline-block}\n",
       ".list-inline>li:not(:last-child)::after {content: \"\\00b7\"; padding: 0 .5ex}\n",
       "</style>\n",
       "<ol class=list-inline><li>'a'</li><li>'b'</li><li>'c'</li></ol>\n"
      ],
      "text/latex": [
       "\\begin{enumerate*}\n",
       "\\item 'a'\n",
       "\\item 'b'\n",
       "\\item 'c'\n",
       "\\end{enumerate*}\n"
      ],
      "text/markdown": [
       "1. 'a'\n",
       "2. 'b'\n",
       "3. 'c'\n",
       "\n",
       "\n"
      ],
      "text/plain": [
       "[1] \"a\" \"b\" \"c\""
      ]
     },
     "metadata": {},
     "output_type": "display_data"
    },
    {
     "data": {
      "text/html": [
       "<style>\n",
       ".list-inline {list-style: none; margin:0; padding: 0}\n",
       ".list-inline>li {display: inline-block}\n",
       ".list-inline>li:not(:last-child)::after {content: \"\\00b7\"; padding: 0 .5ex}\n",
       "</style>\n",
       "<ol class=list-inline><li>'1'</li><li>'2'</li><li>'c'</li></ol>\n"
      ],
      "text/latex": [
       "\\begin{enumerate*}\n",
       "\\item '1'\n",
       "\\item '2'\n",
       "\\item 'c'\n",
       "\\end{enumerate*}\n"
      ],
      "text/markdown": [
       "1. '1'\n",
       "2. '2'\n",
       "3. 'c'\n",
       "\n",
       "\n"
      ],
      "text/plain": [
       "[1] \"1\" \"2\" \"c\""
      ]
     },
     "metadata": {},
     "output_type": "display_data"
    }
   ],
   "source": [
    "c(1, 2, 3, 4, 5)\n",
    "c(\"a\", \"b\", \"c\")\n",
    "# mix them and R will coerce to the most lenient that will allow them all in the set\n",
    "c(1, 2, \"c\")"
   ]
  },
  {
   "cell_type": "markdown",
   "id": "3b607da1",
   "metadata": {},
   "source": [
    "data.frames store tabular data in rows and columns. Columns can be different data types, but each row of a column must be consistent"
   ]
  },
  {
   "cell_type": "code",
   "execution_count": 20,
   "id": "7c29d73d",
   "metadata": {},
   "outputs": [
    {
     "data": {
      "text/html": [
       "<table class=\"dataframe\">\n",
       "<caption>A data.frame: 6 × 2</caption>\n",
       "<thead>\n",
       "\t<tr><th scope=col>strings</th><th scope=col>numbers</th></tr>\n",
       "\t<tr><th scope=col>&lt;chr&gt;</th><th scope=col>&lt;int&gt;</th></tr>\n",
       "</thead>\n",
       "<tbody>\n",
       "\t<tr><td>A</td><td> 6</td></tr>\n",
       "\t<tr><td>B</td><td> 7</td></tr>\n",
       "\t<tr><td>C</td><td> 8</td></tr>\n",
       "\t<tr><td>D</td><td> 9</td></tr>\n",
       "\t<tr><td>E</td><td>10</td></tr>\n",
       "\t<tr><td>F</td><td>11</td></tr>\n",
       "</tbody>\n",
       "</table>\n"
      ],
      "text/latex": [
       "A data.frame: 6 × 2\n",
       "\\begin{tabular}{ll}\n",
       " strings & numbers\\\\\n",
       " <chr> & <int>\\\\\n",
       "\\hline\n",
       "\t A &  6\\\\\n",
       "\t B &  7\\\\\n",
       "\t C &  8\\\\\n",
       "\t D &  9\\\\\n",
       "\t E & 10\\\\\n",
       "\t F & 11\\\\\n",
       "\\end{tabular}\n"
      ],
      "text/markdown": [
       "\n",
       "A data.frame: 6 × 2\n",
       "\n",
       "| strings &lt;chr&gt; | numbers &lt;int&gt; |\n",
       "|---|---|\n",
       "| A |  6 |\n",
       "| B |  7 |\n",
       "| C |  8 |\n",
       "| D |  9 |\n",
       "| E | 10 |\n",
       "| F | 11 |\n",
       "\n"
      ],
      "text/plain": [
       "  strings numbers\n",
       "1 A        6     \n",
       "2 B        7     \n",
       "3 C        8     \n",
       "4 D        9     \n",
       "5 E       10     \n",
       "6 F       11     "
      ]
     },
     "metadata": {},
     "output_type": "display_data"
    }
   ],
   "source": [
    "data.frame(strings = LETTERS[1:6], numbers = 6:11)\n"
   ]
  },
  {
   "cell_type": "markdown",
   "id": "fbe0c55a",
   "metadata": {},
   "source": [
    "matrices are similar, but the entire table must be one data type. Matrices are vectors with dimension attributes."
   ]
  },
  {
   "cell_type": "code",
   "execution_count": 21,
   "id": "39751a19",
   "metadata": {},
   "outputs": [
    {
     "data": {
      "text/html": [
       "<table class=\"dataframe\">\n",
       "<caption>A matrix: 3 × 3 of type int</caption>\n",
       "<thead>\n",
       "\t<tr><th></th><th scope=col>A</th><th scope=col>B</th><th scope=col>C</th></tr>\n",
       "</thead>\n",
       "<tbody>\n",
       "\t<tr><th scope=row>1</th><td>1</td><td>4</td><td>7</td></tr>\n",
       "\t<tr><th scope=row>2</th><td>2</td><td>5</td><td>8</td></tr>\n",
       "\t<tr><th scope=row>3</th><td>3</td><td>6</td><td>9</td></tr>\n",
       "</tbody>\n",
       "</table>\n"
      ],
      "text/latex": [
       "A matrix: 3 × 3 of type int\n",
       "\\begin{tabular}{r|lll}\n",
       "  & A & B & C\\\\\n",
       "\\hline\n",
       "\t1 & 1 & 4 & 7\\\\\n",
       "\t2 & 2 & 5 & 8\\\\\n",
       "\t3 & 3 & 6 & 9\\\\\n",
       "\\end{tabular}\n"
      ],
      "text/markdown": [
       "\n",
       "A matrix: 3 × 3 of type int\n",
       "\n",
       "| <!--/--> | A | B | C |\n",
       "|---|---|---|---|\n",
       "| 1 | 1 | 4 | 7 |\n",
       "| 2 | 2 | 5 | 8 |\n",
       "| 3 | 3 | 6 | 9 |\n",
       "\n"
      ],
      "text/plain": [
       "  A B C\n",
       "1 1 4 7\n",
       "2 2 5 8\n",
       "3 3 6 9"
      ]
     },
     "metadata": {},
     "output_type": "display_data"
    }
   ],
   "source": [
    "matrix(1:9, nrow = 3, ncol = 3, dimnames = list(1:3, LETTERS[1:3]))\n"
   ]
  },
  {
   "cell_type": "markdown",
   "id": "3b2bbc4e",
   "metadata": {},
   "source": [
    "arrays are matrices with more than 2 dimensions. n-dimensions are difficult to present on screen."
   ]
  },
  {
   "cell_type": "code",
   "execution_count": 31,
   "id": "78db0a88",
   "metadata": {},
   "outputs": [
    {
     "data": {
      "text/html": [
       "<style>\n",
       ".list-inline {list-style: none; margin:0; padding: 0}\n",
       ".list-inline>li {display: inline-block}\n",
       ".list-inline>li:not(:last-child)::after {content: \"\\00b7\"; padding: 0 .5ex}\n",
       "</style>\n",
       "<ol class=list-inline><li>3</li><li>3</li><li>3</li></ol>\n"
      ],
      "text/latex": [
       "\\begin{enumerate*}\n",
       "\\item 3\n",
       "\\item 3\n",
       "\\item 3\n",
       "\\end{enumerate*}\n"
      ],
      "text/markdown": [
       "1. 3\n",
       "2. 3\n",
       "3. 3\n",
       "\n",
       "\n"
      ],
      "text/plain": [
       "[1] 3 3 3"
      ]
     },
     "metadata": {},
     "output_type": "display_data"
    },
    {
     "data": {
      "text/html": [
       "<table class=\"dataframe\">\n",
       "<caption>A matrix: 3 × 3 of type int</caption>\n",
       "<tbody>\n",
       "\t<tr><td>1</td><td>4</td><td>7</td></tr>\n",
       "\t<tr><td>2</td><td>5</td><td>8</td></tr>\n",
       "\t<tr><td>3</td><td>6</td><td>9</td></tr>\n",
       "</tbody>\n",
       "</table>\n"
      ],
      "text/latex": [
       "A matrix: 3 × 3 of type int\n",
       "\\begin{tabular}{lll}\n",
       "\t 1 & 4 & 7\\\\\n",
       "\t 2 & 5 & 8\\\\\n",
       "\t 3 & 6 & 9\\\\\n",
       "\\end{tabular}\n"
      ],
      "text/markdown": [
       "\n",
       "A matrix: 3 × 3 of type int\n",
       "\n",
       "| 1 | 4 | 7 |\n",
       "| 2 | 5 | 8 |\n",
       "| 3 | 6 | 9 |\n",
       "\n"
      ],
      "text/plain": [
       "     [,1] [,2] [,3]\n",
       "[1,] 1    4    7   \n",
       "[2,] 2    5    8   \n",
       "[3,] 3    6    9   "
      ]
     },
     "metadata": {},
     "output_type": "display_data"
    },
    {
     "data": {
      "text/html": [
       "<table class=\"dataframe\">\n",
       "<caption>A matrix: 3 × 3 of type int</caption>\n",
       "<tbody>\n",
       "\t<tr><td>10</td><td>13</td><td>16</td></tr>\n",
       "\t<tr><td>11</td><td>14</td><td>17</td></tr>\n",
       "\t<tr><td>12</td><td>15</td><td>18</td></tr>\n",
       "</tbody>\n",
       "</table>\n"
      ],
      "text/latex": [
       "A matrix: 3 × 3 of type int\n",
       "\\begin{tabular}{lll}\n",
       "\t 10 & 13 & 16\\\\\n",
       "\t 11 & 14 & 17\\\\\n",
       "\t 12 & 15 & 18\\\\\n",
       "\\end{tabular}\n"
      ],
      "text/markdown": [
       "\n",
       "A matrix: 3 × 3 of type int\n",
       "\n",
       "| 10 | 13 | 16 |\n",
       "| 11 | 14 | 17 |\n",
       "| 12 | 15 | 18 |\n",
       "\n"
      ],
      "text/plain": [
       "     [,1] [,2] [,3]\n",
       "[1,] 10   13   16  \n",
       "[2,] 11   14   17  \n",
       "[3,] 12   15   18  "
      ]
     },
     "metadata": {},
     "output_type": "display_data"
    },
    {
     "data": {
      "text/html": [
       "<table class=\"dataframe\">\n",
       "<caption>A matrix: 3 × 3 of type int</caption>\n",
       "<tbody>\n",
       "\t<tr><td>19</td><td>22</td><td>25</td></tr>\n",
       "\t<tr><td>20</td><td>23</td><td>26</td></tr>\n",
       "\t<tr><td>21</td><td>24</td><td>27</td></tr>\n",
       "</tbody>\n",
       "</table>\n"
      ],
      "text/latex": [
       "A matrix: 3 × 3 of type int\n",
       "\\begin{tabular}{lll}\n",
       "\t 19 & 22 & 25\\\\\n",
       "\t 20 & 23 & 26\\\\\n",
       "\t 21 & 24 & 27\\\\\n",
       "\\end{tabular}\n"
      ],
      "text/markdown": [
       "\n",
       "A matrix: 3 × 3 of type int\n",
       "\n",
       "| 19 | 22 | 25 |\n",
       "| 20 | 23 | 26 |\n",
       "| 21 | 24 | 27 |\n",
       "\n"
      ],
      "text/plain": [
       "     [,1] [,2] [,3]\n",
       "[1,] 19   22   25  \n",
       "[2,] 20   23   26  \n",
       "[3,] 21   24   27  "
      ]
     },
     "metadata": {},
     "output_type": "display_data"
    }
   ],
   "source": [
    "myarr <- array(1:27, dim = c(3,3,3))\n",
    "dim(myarr)\n",
    "myarr[,,1]\n",
    "myarr[,,2]\n",
    "myarr[,,3]"
   ]
  },
  {
   "cell_type": "markdown",
   "id": "b169fb69",
   "metadata": {},
   "source": [
    "lists can store any data type"
   ]
  },
  {
   "cell_type": "code",
   "execution_count": 33,
   "id": "0a080ad6",
   "metadata": {},
   "outputs": [
    {
     "data": {
      "text/html": [
       "<ol>\n",
       "\t<li><style>\n",
       ".list-inline {list-style: none; margin:0; padding: 0}\n",
       ".list-inline>li {display: inline-block}\n",
       ".list-inline>li:not(:last-child)::after {content: \"\\00b7\"; padding: 0 .5ex}\n",
       "</style>\n",
       "<ol class=list-inline><li>1</li><li>2</li></ol>\n",
       "</li>\n",
       "\t<li><table class=\"dataframe\">\n",
       "<caption>A data.frame: 3 × 2</caption>\n",
       "<thead>\n",
       "\t<tr><th scope=col>a</th><th scope=col>b</th></tr>\n",
       "\t<tr><th scope=col>&lt;int&gt;</th><th scope=col>&lt;int&gt;</th></tr>\n",
       "</thead>\n",
       "<tbody>\n",
       "\t<tr><td>1</td><td>4</td></tr>\n",
       "\t<tr><td>2</td><td>5</td></tr>\n",
       "\t<tr><td>3</td><td>6</td></tr>\n",
       "</tbody>\n",
       "</table>\n",
       "</li>\n",
       "</ol>\n"
      ],
      "text/latex": [
       "\\begin{enumerate}\n",
       "\\item \\begin{enumerate*}\n",
       "\\item 1\n",
       "\\item 2\n",
       "\\end{enumerate*}\n",
       "\n",
       "\\item A data.frame: 3 × 2\n",
       "\\begin{tabular}{ll}\n",
       " a & b\\\\\n",
       " <int> & <int>\\\\\n",
       "\\hline\n",
       "\t 1 & 4\\\\\n",
       "\t 2 & 5\\\\\n",
       "\t 3 & 6\\\\\n",
       "\\end{tabular}\n",
       "\n",
       "\\end{enumerate}\n"
      ],
      "text/markdown": [
       "1. 1. 1\n",
       "2. 2\n",
       "\n",
       "\n",
       "\n",
       "2. \n",
       "A data.frame: 3 × 2\n",
       "\n",
       "| a &lt;int&gt; | b &lt;int&gt; |\n",
       "|---|---|\n",
       "| 1 | 4 |\n",
       "| 2 | 5 |\n",
       "| 3 | 6 |\n",
       "\n",
       "\n",
       "\n",
       "\n"
      ],
      "text/plain": [
       "[[1]]\n",
       "[1] 1 2\n",
       "\n",
       "[[2]]\n",
       "  a b\n",
       "1 1 4\n",
       "2 2 5\n",
       "3 3 6\n"
      ]
     },
     "metadata": {},
     "output_type": "display_data"
    }
   ],
   "source": [
    "list(\n",
    "    c(1,2), \n",
    "    data.frame(a = 1:3, b = 4:6)\n",
    ")"
   ]
  },
  {
   "cell_type": "markdown",
   "id": "d7f41d5b",
   "metadata": {},
   "source": [
    "elements of vectors and lists can be named"
   ]
  },
  {
   "cell_type": "code",
   "execution_count": 34,
   "id": "79f2d8b6",
   "metadata": {},
   "outputs": [
    {
     "data": {
      "text/html": [
       "<style>\n",
       ".dl-inline {width: auto; margin:0; padding: 0}\n",
       ".dl-inline>dt, .dl-inline>dd {float: none; width: auto; display: inline-block}\n",
       ".dl-inline>dt::after {content: \":\\0020\"; padding-right: .5ex}\n",
       ".dl-inline>dt:not(:first-of-type) {padding-left: .5ex}\n",
       "</style><dl class=dl-inline><dt>a</dt><dd>1</dd><dt>b</dt><dd>2</dd><dt>c</dt><dd>3</dd></dl>\n"
      ],
      "text/latex": [
       "\\begin{description*}\n",
       "\\item[a] 1\n",
       "\\item[b] 2\n",
       "\\item[c] 3\n",
       "\\end{description*}\n"
      ],
      "text/markdown": [
       "a\n",
       ":   1b\n",
       ":   2c\n",
       ":   3\n",
       "\n"
      ],
      "text/plain": [
       "a b c \n",
       "1 2 3 "
      ]
     },
     "metadata": {},
     "output_type": "display_data"
    },
    {
     "data": {
      "text/html": [
       "<dl>\n",
       "\t<dt>$myvector</dt>\n",
       "\t\t<dd><style>\n",
       ".list-inline {list-style: none; margin:0; padding: 0}\n",
       ".list-inline>li {display: inline-block}\n",
       ".list-inline>li:not(:last-child)::after {content: \"\\00b7\"; padding: 0 .5ex}\n",
       "</style>\n",
       "<ol class=list-inline><li>1</li><li>2</li></ol>\n",
       "</dd>\n",
       "\t<dt>$mydf</dt>\n",
       "\t\t<dd><table class=\"dataframe\">\n",
       "<caption>A data.frame: 3 × 2</caption>\n",
       "<thead>\n",
       "\t<tr><th scope=col>a</th><th scope=col>b</th></tr>\n",
       "\t<tr><th scope=col>&lt;int&gt;</th><th scope=col>&lt;int&gt;</th></tr>\n",
       "</thead>\n",
       "<tbody>\n",
       "\t<tr><td>1</td><td>4</td></tr>\n",
       "\t<tr><td>2</td><td>5</td></tr>\n",
       "\t<tr><td>3</td><td>6</td></tr>\n",
       "</tbody>\n",
       "</table>\n",
       "</dd>\n",
       "</dl>\n"
      ],
      "text/latex": [
       "\\begin{description}\n",
       "\\item[\\$myvector] \\begin{enumerate*}\n",
       "\\item 1\n",
       "\\item 2\n",
       "\\end{enumerate*}\n",
       "\n",
       "\\item[\\$mydf] A data.frame: 3 × 2\n",
       "\\begin{tabular}{ll}\n",
       " a & b\\\\\n",
       " <int> & <int>\\\\\n",
       "\\hline\n",
       "\t 1 & 4\\\\\n",
       "\t 2 & 5\\\\\n",
       "\t 3 & 6\\\\\n",
       "\\end{tabular}\n",
       "\n",
       "\\end{description}\n"
      ],
      "text/markdown": [
       "$myvector\n",
       ":   1. 1\n",
       "2. 2\n",
       "\n",
       "\n",
       "\n",
       "$mydf\n",
       ":   \n",
       "A data.frame: 3 × 2\n",
       "\n",
       "| a &lt;int&gt; | b &lt;int&gt; |\n",
       "|---|---|\n",
       "| 1 | 4 |\n",
       "| 2 | 5 |\n",
       "| 3 | 6 |\n",
       "\n",
       "\n",
       "\n",
       "\n"
      ],
      "text/plain": [
       "$myvector\n",
       "[1] 1 2\n",
       "\n",
       "$mydf\n",
       "  a b\n",
       "1 1 4\n",
       "2 2 5\n",
       "3 3 6\n"
      ]
     },
     "metadata": {},
     "output_type": "display_data"
    }
   ],
   "source": [
    "c(a = 1, b = 2, c = 3)\n",
    "list(myvector = c(1,2), mydf = data.frame(a = 1:3, b = 4:6))"
   ]
  },
  {
   "cell_type": "markdown",
   "id": "6395684a",
   "metadata": {},
   "source": [
    "## Extracting data\n",
    "R indexes start a 1, which is unusual for most programming languages.  \n",
    "The complexity of indexing 1, 2, and n-dimensional structures is one of R's greatest strengths.  \n",
    "Paradoxically it is the part of R most people love to hate, and entire packages are built around simplifying it."
   ]
  },
  {
   "cell_type": "code",
   "execution_count": null,
   "id": "de1a431d",
   "metadata": {},
   "outputs": [],
   "source": [
    "nums <- c(5, 2, 3, 4, 1)\n",
    "which(nums == 5)"
   ]
  },
  {
   "cell_type": "markdown",
   "id": "b25b80b0",
   "metadata": {},
   "source": [
    "Use square brackets to select a value from an object.  \n",
    "Elements in a vector have defined positions"
   ]
  },
  {
   "cell_type": "code",
   "execution_count": null,
   "id": "26d46011",
   "metadata": {},
   "outputs": [],
   "source": [
    "nums[5]\n",
    "nums[4:5]"
   ]
  },
  {
   "cell_type": "markdown",
   "id": "351abf1c",
   "metadata": {},
   "source": [
    "If the elemensts are named:"
   ]
  },
  {
   "cell_type": "code",
   "execution_count": null,
   "id": "c2227b67",
   "metadata": {},
   "outputs": [],
   "source": [
    "nameval <- c(a=1, b=2, c=3)\n",
    "nameval[\"b\"]"
   ]
  },
  {
   "cell_type": "markdown",
   "id": "cd673a36",
   "metadata": {},
   "source": [
    "if the object has dimensions you can use matrix notation and specify [rows, cols]:"
   ]
  },
  {
   "cell_type": "code",
   "execution_count": null,
   "id": "0180b259",
   "metadata": {},
   "outputs": [],
   "source": [
    "dat <- data.frame(strings=LETTERS[1:5], numbers=6:11)\n",
    "dat[2, 2]"
   ]
  },
  {
   "cell_type": "markdown",
   "id": "474eb9d8",
   "metadata": {},
   "source": [
    "leave the rows index out to imply all rows:"
   ]
  },
  {
   "cell_type": "code",
   "execution_count": null,
   "id": "65ab33b8",
   "metadata": {},
   "outputs": [],
   "source": [
    "dat[, 2] <- dat[, 2] + 10\n",
    "dat"
   ]
  },
  {
   "cell_type": "markdown",
   "id": "2929b70d",
   "metadata": {},
   "source": [
    "If the object is a list you can use list notation, which is a double square bracket to index by a single position or name:"
   ]
  },
  {
   "cell_type": "code",
   "execution_count": null,
   "id": "93ef892e",
   "metadata": {},
   "outputs": [],
   "source": [
    "myx <- list(\n",
    "    myvector = c(1,2), \n",
    "    mydf = data.frame(a = 1:3, b = 4:6), \n",
    "    mymatrix = matrix(1:9, nrow = 3)\n",
    ")\n",
    "myx[[2]]\n",
    "myx[[\"mydf\"]]"
   ]
  },
  {
   "cell_type": "markdown",
   "id": "ac8af46c",
   "metadata": {},
   "source": [
    "or a dollar sign to index by a single name:"
   ]
  },
  {
   "cell_type": "code",
   "execution_count": null,
   "id": "89114271",
   "metadata": {},
   "outputs": [],
   "source": [
    "myx$myvector"
   ]
  },
  {
   "cell_type": "markdown",
   "id": "3f113c45",
   "metadata": {},
   "source": [
    "If you need more than one element from a list, use vector notation which returns another list:"
   ]
  },
  {
   "cell_type": "code",
   "execution_count": null,
   "id": "96a33ae4",
   "metadata": {},
   "outputs": [],
   "source": [
    "myx[c(1,2)]"
   ]
  },
  {
   "cell_type": "markdown",
   "id": "66b76bed",
   "metadata": {},
   "source": [
    "\n",
    "## Custom Functions\n",
    "Many operations involve applying a function to each element of a set. Custom functions are created using the `function()` function, with the arguments specified in the function arguments. The function will return the last value in the expression block, or you can explicitly set the `return()` value. The value here is you can of course write custom analyses, but you can also use these to leverage any built-in function (such as `lapply`) which can iteratively apply a function to a set."
   ]
  },
  {
   "cell_type": "code",
   "execution_count": 8,
   "id": "aa4acf78",
   "metadata": {},
   "outputs": [
    {
     "data": {
      "text/html": [
       "28"
      ],
      "text/latex": [
       "28"
      ],
      "text/markdown": [
       "28"
      ],
      "text/plain": [
       "[1] 28"
      ]
     },
     "metadata": {},
     "output_type": "display_data"
    }
   ],
   "source": [
    "addition <- function(a, b) {\n",
    "  a + b\n",
    "}\n",
    "\n",
    "addition(11, 17)"
   ]
  },
  {
   "cell_type": "markdown",
   "id": "9f870ce4",
   "metadata": {},
   "source": [
    "## For loops\n",
    "The `for` loop is used extensively in python and is sometimes useful in R as well. The `in` keyword is reserved for the `for` loop, so you can call a routine on each element *in* a set.\n",
    "For loops will auto-increment after each iteration."
   ]
  },
  {
   "cell_type": "code",
   "execution_count": 11,
   "id": "58df00a6",
   "metadata": {},
   "outputs": [
    {
     "name": "stdout",
     "output_type": "stream",
     "text": [
      "[1] 1\n",
      "[1] 3\n",
      "[1] 6\n",
      "[1] 10\n",
      "[1] 15\n"
     ]
    }
   ],
   "source": [
    "loopcontrolvector <- 1:5\n",
    "for(i in loopcontrolvector) {\n",
    "  print( sum( loopcontrolvector[1:i] ) )\n",
    "}"
   ]
  },
  {
   "cell_type": "markdown",
   "id": "2cf7f44f",
   "metadata": {},
   "source": [
    "In practice, many `for` loops are replaced by operations that natively act on sets and perform implicit looping rather than requiring an explicit loop to be run.\n",
    "\n",
    "## Logicals\n",
    "Logicals consist of the keywords TRUE and FALSE, but any non-zero number will evaluate to TRUE as well just as the 0 value will evaluate to FALSE."
   ]
  },
  {
   "cell_type": "code",
   "execution_count": 12,
   "id": "66de1da9",
   "metadata": {},
   "outputs": [
    {
     "name": "stdout",
     "output_type": "stream",
     "text": [
      "[1] TRUE\n",
      "[1] TRUE\n",
      "[1] TRUE\n",
      "[1] FALSE\n",
      "[1] FALSE\n"
     ]
    }
   ],
   "source": [
    "for(i in loopcontrolvector) {\n",
    "  print(i < 3.5)\n",
    "}"
   ]
  },
  {
   "cell_type": "markdown",
   "id": "5d7efa2b",
   "metadata": {},
   "source": [
    "## While loops\n",
    "The `while` loop runs until its control expression evaluates to FALSE. The control expression typically must be incremented outside the loop."
   ]
  },
  {
   "cell_type": "code",
   "execution_count": 13,
   "id": "09f7222e",
   "metadata": {},
   "outputs": [
    {
     "name": "stdout",
     "output_type": "stream",
     "text": [
      "[1] 1\n",
      "[1] 10\n",
      "[1] 100\n",
      "[1] 1000\n",
      "[1] 10000\n"
     ]
    }
   ],
   "source": [
    "x <- 0\n",
    "while(x < 5) {\n",
    "  print(10^x)\n",
    "  x <- x+1\n",
    "}"
   ]
  },
  {
   "cell_type": "markdown",
   "id": "81bd9e74",
   "metadata": {},
   "source": [
    "## If... Else control\n",
    "These are pretty straightforward, use the format if() {...} else if() {...} else {...}. Chain as many else if() blocks as necessary."
   ]
  },
  {
   "cell_type": "code",
   "execution_count": 14,
   "id": "6b73b03d",
   "metadata": {},
   "outputs": [
    {
     "name": "stdout",
     "output_type": "stream",
     "text": [
      "[1] \"its between 5 and 100\"\n"
     ]
    }
   ],
   "source": [
    "x <- 17\n",
    "if(x < 5) {\n",
    "  print(\"its a small number\")\n",
    "} else if(x > 100) {\n",
    "  print(\"its a big number\")\n",
    "} else {\n",
    "  print(\"its between 5 and 100\")\n",
    "}"
   ]
  }
 ],
 "metadata": {
  "kernelspec": {
   "display_name": "R",
   "language": "R",
   "name": "ir"
  },
  "language_info": {
   "codemirror_mode": "r",
   "file_extension": ".r",
   "mimetype": "text/x-r-source",
   "name": "R",
   "pygments_lexer": "r",
   "version": "4.1.1"
  }
 },
 "nbformat": 4,
 "nbformat_minor": 5
}
