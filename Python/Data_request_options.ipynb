{
 "cells": [
  {
   "cell_type": "markdown",
   "metadata": {},
   "source": [
    "# Example Data Requests\n",
    "\n",
    "Exploring the data availabe from the Champions API"
   ]
  },
  {
   "cell_type": "code",
   "execution_count": 1,
   "metadata": {},
   "outputs": [],
   "source": [
    "import requests\n",
    "import pandas as pd\n",
    "import string\n",
    "import random\n",
    "import pprint\n",
    "import json\n",
    "import time\n",
    "import os\n",
    "pp = pprint.PrettyPrinter(width=79, compact=True)"
   ]
  },
  {
   "cell_type": "markdown",
   "metadata": {},
   "source": [
    "### Define your credentials\n",
    "\n",
    "Credentials can be found on [your Lumin Workspace page](https://database.championsoncology.com/lumin/workstation/)"
   ]
  },
  {
   "cell_type": "code",
   "execution_count": 2,
   "metadata": {},
   "outputs": [],
   "source": [
    "# Define user credentials\n",
    "username = 'user@example.com'\n",
    "client_id = 0\n",
    "user_id = 0\n",
    "token = ''"
   ]
  },
  {
   "cell_type": "markdown",
   "metadata": {},
   "source": [
    "Below is a function we use to retrieve data.\n",
    "\n",
    "We use this to abstract away the work of a data request.\n",
    "\n",
    "You shouldn't need to change anything here.\n",
    "\n",
    "Just run the cell so the function is available in the next step"
   ]
  },
  {
   "cell_type": "code",
   "execution_count": 3,
   "metadata": {},
   "outputs": [
    {
     "name": "stdout",
     "output_type": "stream",
     "text": [
      "Function loaded\n"
     ]
    }
   ],
   "source": [
    "def request_data(table=\"expression\", cancer_type = [\"all\"], genes = [], samples = [], drugs = None, source = \"PDX\", data_set_name = None):\n",
    "    \n",
    "    if data_set_name is None:\n",
    "        # generate a folder name if none was specified\n",
    "        res = ''.join(random.choices(string.ascii_uppercase +\n",
    "                             string.digits, k = 6))\n",
    "        data_set_name = 'Data-'+res\n",
    "    else:\n",
    "        # Remove any special characters\n",
    "        data_set_name = ''.join(e for e in data_set_name if e.isalnum())\n",
    "\n",
    "    # Define the data request dictionary\n",
    "    d = {\n",
    "        \"request_data_type\": table,\n",
    "        \"request_cancer_type\": cancer_type,\n",
    "        \"request_genes\": genes,\n",
    "        \"request_models\": samples,\n",
    "        \"request_agents\": None,\n",
    "        \"request_dataset\": source,\n",
    "        \"request_workspace_id\": username,\n",
    "        \"request_client\": client_id,\n",
    "        \"request_user\": user_id,\n",
    "        \"request_mode\": True,\n",
    "        \"request_display_error\": False,\n",
    "        \"preview\": True\n",
    "    }\n",
    "\n",
    "    # create the request\n",
    "    headers={\"authorization\":\"Bearer \"+token}\n",
    "    response = requests.post('https://lumin-fast-api.championsoncology.com/workstation/',json=d, headers=headers)\n",
    "    task_id = None\n",
    "    task_id = response.json()['task_id']\n",
    "\n",
    "    if task_id is None:\n",
    "        print(\"Error: No task_id returned. Please check the request details\")\n",
    "        return None\n",
    "    else:\n",
    "        print('')\n",
    "        print(\"Data Request ID: {}\".format(task_id))\n",
    "\n",
    "        # check the status of the request until it's complete\n",
    "        while True:\n",
    "            response = requests.get('https://lumin-fast-api.championsoncology.com/tasks/poll/'+task_id+'?old_progress=0',json=d, headers=headers)\n",
    "            state = response.json()['state']\n",
    "            if state == 'SUCCESS':\n",
    "                result = response.json()['result']\n",
    "                rd = json.loads(result)\n",
    "                #pp.pprint(rd)\n",
    "                folder = rd['name']\n",
    "                break\n",
    "            elif state == 'PROGRESS':\n",
    "                print(\"Still loading...\")\n",
    "            elif state == 'error':\n",
    "                print(\"Error: {}\".format(response.json()['error']))\n",
    "                return None, None\n",
    "            else:\n",
    "                print(\"Status: {}\".format(state))\n",
    "                time.sleep(20)\n",
    "            #pp.pprint(response.json())\n",
    "\n",
    "        # Change the folder name to the data set name\n",
    "        directory = os.path.expanduser(\"~\")\n",
    "        #print(directory)\n",
    "        os.rename(directory+'/'+folder, directory+'/'+data_set_name)\n",
    "\n",
    "        # combine the files and save as a CSV\n",
    "        folder = directory+\"/\"+data_set_name\n",
    "        data = pd.DataFrame()\n",
    "        i = 0\n",
    "        for file in os.listdir(folder):\n",
    "            i = i+1\n",
    "            print(f'reading file {i} {file} ...')\n",
    "            df = pd.read_json(folder+'/'+file)\n",
    "            data = pd.concat([data, df])\n",
    "    \n",
    "        #print(data)\n",
    "        data.to_csv(folder+'/'+data_set_name+'.csv', encoding='utf-8')\n",
    "\n",
    "        # return the file name and location to the user\n",
    "        return data,folder+'/'+data_set_name+'.csv'\n",
    "\n",
    "print(\"Function loaded\")"
   ]
  },
  {
   "cell_type": "markdown",
   "metadata": {},
   "source": [
    "### 2. Request Data"
   ]
  },
  {
   "cell_type": "markdown",
   "metadata": {},
   "source": [
    "#### Load list of gene/samples of interest from from a file"
   ]
  },
  {
   "cell_type": "code",
   "execution_count": 4,
   "metadata": {},
   "outputs": [
    {
     "name": "stdout",
     "output_type": "stream",
     "text": [
      "      gene\n",
      "0     MEN1\n",
      "1    FGFR3\n",
      "2    KIF5B\n",
      "3     SDC4\n",
      "4    FOXA1\n",
      "..     ...\n",
      "95   KDM6A\n",
      "96   FANCA\n",
      "97  STAT5B\n",
      "98   ASXL1\n",
      "99     ELN\n",
      "\n",
      "[100 rows x 1 columns]\n"
     ]
    }
   ],
   "source": [
    "# Load csv with genes of interest\n",
    "# Either treated or untreated with taxane\n",
    "genes_df = pd.read_csv('../Lists/100_random_oncogenes.csv', names=['gene'])\n",
    "# sort by model id\n",
    "genes_df.sort_values('gene')\n",
    "print(genes_df)"
   ]
  },
  {
   "cell_type": "markdown",
   "metadata": {},
   "source": [
    "#### Request RNAseq with genes of interest loaded from list"
   ]
  },
  {
   "cell_type": "code",
   "execution_count": null,
   "metadata": {},
   "outputs": [],
   "source": [
    "# First Run\n",
    "# Load RNAseq data for 100 random oncogenes\n",
    "df, location = request_data(table=\"expression\", genes=list(genes_df['gene']), data_set_name=\"Example_genes\")\n",
    "print(\"Data saved to {} and available as df\".format(location))\n",
    "print(\"Data preview:\")\n",
    "print(df)\n",
    "\n",
    "# Subsequent Runs\n",
    "# Example of loading from CSV next time\n",
    "#location = '../../100genesRNAseq/100genesRNAseq.csv'\n",
    "#data_df = pd.read_csv(location)\n",
    "#data_df = data_df[['model_name','log.tpm','tumor_type','gene']]\n",
    "#print(data_df.head(5))\n",
    "#print(data_df.shape)"
   ]
  },
  {
   "cell_type": "markdown",
   "metadata": {},
   "source": [
    "#### Request RNAseq with sample IDs"
   ]
  },
  {
   "cell_type": "code",
   "execution_count": null,
   "metadata": {},
   "outputs": [],
   "source": [
    "df, location = request_data(table=\"expression\", samples=['CTG-0009'], data_set_name=\"Example_samples\")\n",
    "print(\"Data saved to {} and available as df\".format(location))\n",
    "print(\"Data preview:\")\n",
    "print(df)"
   ]
  },
  {
   "cell_type": "markdown",
   "metadata": {},
   "source": [
    "#### Request Mutations with sample IDs"
   ]
  },
  {
   "cell_type": "code",
   "execution_count": null,
   "metadata": {},
   "outputs": [],
   "source": [
    "df, location = request_data(table=\"mutations\", samples=['CTG-0009'], data_set_name=\"Example_samples\")\n",
    "print(\"Data saved to {} and available as df\".format(location))\n",
    "print(\"Data preview:\")\n",
    "print(df)"
   ]
  },
  {
   "cell_type": "markdown",
   "metadata": {},
   "source": [
    "#### Request Copy Number Variations with sample IDs"
   ]
  },
  {
   "cell_type": "code",
   "execution_count": null,
   "metadata": {},
   "outputs": [],
   "source": [
    "df, location = request_data(table=\"copynumber\", samples=['CTG-0009'], data_set_name=\"Example_samples\")\n",
    "print(\"Data saved to {} and available as df\".format(location))\n",
    "print(\"Data preview:\")\n",
    "print(df)"
   ]
  },
  {
   "cell_type": "markdown",
   "metadata": {},
   "source": [
    "#### Request Fusions with sample IDs"
   ]
  },
  {
   "cell_type": "code",
   "execution_count": null,
   "metadata": {},
   "outputs": [],
   "source": [
    "df, location = request_data(table=\"fusions\", samples=['CTG-0009'], data_set_name=\"Example_samples\")\n",
    "print(\"Data saved to {} and available as df\".format(location))\n",
    "print(\"Data preview:\")\n",
    "print(df)"
   ]
  },
  {
   "cell_type": "markdown",
   "metadata": {},
   "source": [
    "#### Clinical metadata"
   ]
  },
  {
   "cell_type": "code",
   "execution_count": null,
   "metadata": {},
   "outputs": [],
   "source": [
    "df, location = request_data(table=\"clinical\", samples=['CTG-0009'], data_set_name=\"Example_samples\")\n",
    "print(\"Data saved to {} and available as df\".format(location))\n",
    "print(\"Data preview:\")\n",
    "print(df)"
   ]
  },
  {
   "cell_type": "markdown",
   "metadata": {},
   "source": [
    "#### Clinical response data"
   ]
  },
  {
   "cell_type": "code",
   "execution_count": null,
   "metadata": {},
   "outputs": [],
   "source": [
    "df, location = request_data(table=\"clinical_treatments\", samples=['CTG-0009'], data_set_name=\"Example_samples\")\n",
    "print(\"Data saved to {} and available as df\".format(location))\n",
    "print(\"Data preview:\")\n",
    "print(df)"
   ]
  },
  {
   "cell_type": "markdown",
   "metadata": {},
   "source": [
    "#### TGI"
   ]
  },
  {
   "cell_type": "code",
   "execution_count": null,
   "metadata": {},
   "outputs": [],
   "source": [
    "df, location = request_data(table=\"TGI\", samples=['CTG-0009'], data_set_name=\"Example_samples\")\n",
    "print(\"Data saved to {} and available as df\".format(location))\n",
    "print(\"Data preview:\")\n",
    "print(df)"
   ]
  },
  {
   "cell_type": "markdown",
   "metadata": {},
   "source": [
    "#### TCGA"
   ]
  },
  {
   "cell_type": "code",
   "execution_count": null,
   "metadata": {},
   "outputs": [],
   "source": [
    "df, location = request_data(source=\"TCGA\", genes=list(genes_df['gene']), table=\"\", data_set_name=\"Example_samples\")\n",
    "print(\"Data saved to {} and available as df\".format(location))\n",
    "print(\"Data preview:\")\n",
    "print(df)"
   ]
  },
  {
   "cell_type": "markdown",
   "metadata": {},
   "source": [
    "#### CPTAC"
   ]
  },
  {
   "cell_type": "code",
   "execution_count": null,
   "metadata": {},
   "outputs": [],
   "source": [
    "df, location = request_data(source=\"TCGA\", genes=list(genes_df['gene']), table=\"\", data_set_name=\"Example_samples\")\n",
    "print(\"Data saved to {} and available as df\".format(location))\n",
    "print(\"Data preview:\")\n",
    "print(df)"
   ]
  },
  {
   "cell_type": "markdown",
   "metadata": {},
   "source": [
    "### Coming Soon\n",
    "\n",
    "#### GTEX data and example notebook"
   ]
  },
  {
   "cell_type": "markdown",
   "metadata": {},
   "source": []
  }
 ],
 "metadata": {
  "kernelspec": {
   "display_name": "Python 3 (ipykernel)",
   "language": "python",
   "name": "python3"
  },
  "language_info": {
   "codemirror_mode": {
    "name": "ipython",
    "version": 3
   },
   "file_extension": ".py",
   "mimetype": "text/x-python",
   "name": "python",
   "nbconvert_exporter": "python",
   "pygments_lexer": "ipython3",
   "version": "3.7.7"
  }
 },
 "nbformat": 4,
 "nbformat_minor": 2
}
