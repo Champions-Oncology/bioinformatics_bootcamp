{
 "cells": [
  {
   "cell_type": "markdown",
   "metadata": {},
   "source": [
    "Now that we've mastered some basics, lets load the data we requested from the GUI earlier and try some basic statistics."
   ]
  },
  {
   "cell_type": "code",
   "execution_count": null,
   "metadata": {},
   "outputs": [],
   "source": [
    "import pandas as pd\n",
    "\n",
    "df = pd.read_json ('../example_GUI_dataset/requested_data---chunk--0.json')\n",
    "print(df)\n"
   ]
  },
  {
   "cell_type": "code",
   "execution_count": null,
   "metadata": {},
   "outputs": [],
   "source": [
    "# That's a lot of data. Let's take a look at the column names\n",
    "print(df.columns)"
   ]
  },
  {
   "cell_type": "code",
   "execution_count": null,
   "metadata": {},
   "outputs": [],
   "source": [
    "# we don't need a lot of those columns. Let's drop them and keep only what we need\n",
    "df = df[['log.tpm', 'z', 'model', 'gene', 'tumor_type']]\n",
    "print(df)"
   ]
  },
  {
   "cell_type": "markdown",
   "metadata": {},
   "source": [
    "Thats better! \n",
    "\n",
    "TPM:  Transcript Per Million. The sum of all TPM values is the same in all samples, such that a TPM value represents a relative expression level that, in principle, should be comparable between samples.\n",
    "Z-score: Calculated by subtracting the overall average gene abundance from the raw expression for each gene, and dividing that result by the standard deviation (SD) of all of the measured counts across all samples\n",
    "\n",
    "Let's try plotting one vs the other!"
   ]
  },
  {
   "cell_type": "code",
   "execution_count": null,
   "metadata": {},
   "outputs": [],
   "source": [
    "# import plotly express\n",
    "#import sys\n",
    "#!{sys.executable} -m pip install plotly.express # This will install the library. We only need to do this once.\n",
    "import plotly.express as px\n",
    "\n",
    "# Select just a couple cancer types\n",
    "nsclc_df = df[df['tumor_type'].isin(['Colorectal','NSCLC'])]\n",
    "\n",
    "# Plot the data\n",
    "fig = px.scatter(nsclc_df, x=nsclc_df['log.tpm'], y=nsclc_df['z'], color=\"tumor_type\", marginal_y=\"violin\",\n",
    "           marginal_x=\"box\", trendline=\"ols\", template=\"simple_white\")\n",
    "fig.show()"
   ]
  },
  {
   "cell_type": "code",
   "execution_count": null,
   "metadata": {},
   "outputs": [],
   "source": [
    "# How does expression of one gene correlate with expression of another?\n",
    "# Let's plot the correlation between the two genes\n",
    "\n",
    "# Pivot the data to make a matrix\n",
    "values_df = nsclc_df.reset_index().pivot_table(index=\"model\", columns=\"gene\", values=\"log.tpm\", aggfunc='mean')\n",
    "print(values_df)\n",
    "\n",
    "# Plot the data\n",
    "fig = px.scatter(values_df, x=values_df['TP53'], y=values_df['TP53BP2'], marginal_y=\"violin\",\n",
    "           marginal_x=\"box\", trendline=\"ols\", template=\"simple_white\")\n",
    "fig.show()\n"
   ]
  },
  {
   "cell_type": "code",
   "execution_count": null,
   "metadata": {},
   "outputs": [],
   "source": [
    "import plotly.express as px\n",
    "\n",
    "# Select just a couple genes\n",
    "genes = ['TP53', 'BRCA1', 'BRCA2']\n",
    "nsclc_df = df[df['gene'].isin(genes)]\n",
    "types = ['Colorectal','NSCLC']\n",
    "nsclc_df = df[df['tumor_type'].isin(types)]\n",
    "print(nsclc_df)\n",
    "\n",
    "fig = px.violin(nsclc_df, y=\"log.tpm\", x=\"gene\", color=\"tumor_type\", box=True, points=\"all\", hover_data=df.columns)\n",
    "fig.show()"
   ]
  },
  {
   "cell_type": "code",
   "execution_count": null,
   "metadata": {},
   "outputs": [],
   "source": [
    "# Let's make a basic heatmap of the data\n",
    "\n",
    "# Limit to NSCLC\n",
    "types = ['NSCLC']\n",
    "nsclc_df = df[df['tumor_type'].isin(types)]\n",
    "\n",
    "# Pivot the data to make a matrix\n",
    "values_df = nsclc_df.reset_index().pivot_table(index=\"model\", columns=\"gene\", values=\"z\", aggfunc='mean')\n",
    "#print(values_df)\n",
    "\n",
    "#print(list(values_df))\n",
    "#print(list(values_df.index.values))\n",
    "\n",
    "fig = px.imshow(values_df,\n",
    "                labels=dict(x=\"gene\", y=\"model\", color=\"z score\"),\n",
    "                y=list(values_df.index.values),\n",
    "                x=list(values_df)\n",
    "               )\n",
    "fig.update_xaxes(side=\"top\")\n",
    "fig.update_layout(\n",
    "    title=\"NSCLC Expression\",\n",
    "    coloraxis_colorbar=dict(\n",
    "        title=\"Z Score\"),\n",
    "    width = 700, height = 700,\n",
    "    autosize = False)\n",
    "fig.show()"
   ]
  },
  {
   "cell_type": "code",
   "execution_count": null,
   "metadata": {},
   "outputs": [],
   "source": [
    "# We can do better. Let's make a heatmap with our data clustered and add dendrogram\n",
    "#import sys\n",
    "#!{sys.executable} -m pip install seaborn # This will install the library. We only need to do this once.\n",
    "import seaborn as sns; sns.set_theme(color_codes=True)\n",
    "\n",
    "g = sns.clustermap(values_df)"
   ]
  },
  {
   "cell_type": "code",
   "execution_count": null,
   "metadata": {},
   "outputs": [],
   "source": []
  }
 ],
 "metadata": {
  "interpreter": {
   "hash": "aee8b7b246df8f9039afb4144a1f6fd8d2ca17a180786b69acc140d282b71a49"
  },
  "kernelspec": {
   "display_name": "Python 3.8.0 64-bit",
   "language": "python",
   "name": "python3"
  },
  "language_info": {
   "codemirror_mode": {
    "name": "ipython",
    "version": 3
   },
   "file_extension": ".py",
   "mimetype": "text/x-python",
   "name": "python",
   "nbconvert_exporter": "python",
   "pygments_lexer": "ipython3",
   "version": "3.7.7"
  },
  "orig_nbformat": 4
 },
 "nbformat": 4,
 "nbformat_minor": 2
}
