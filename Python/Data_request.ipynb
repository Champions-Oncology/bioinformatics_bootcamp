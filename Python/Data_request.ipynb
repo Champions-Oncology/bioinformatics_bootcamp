{
 "cells": [
  {
   "cell_type": "markdown",
   "metadata": {},
   "source": [
    "# Requesting Data\n",
    "\n",
    "Below is an example of requesting data from the Champions API"
   ]
  },
  {
   "cell_type": "code",
   "execution_count": null,
   "metadata": {},
   "outputs": [],
   "source": [
    "import requests\n",
    "import pandas as pd\n",
    "import string\n",
    "import random\n",
    "import pprint\n",
    "import json\n",
    "import time\n",
    "import os\n",
    "pp = pprint.PrettyPrinter(width=79, compact=True)"
   ]
  },
  {
   "cell_type": "markdown",
   "metadata": {},
   "source": [
    "### Define your credentials\n",
    "\n",
    "Credentials can be found on [your Lumin Workspace page](https://database.championsoncology.com/lumin/workstation/)"
   ]
  },
  {
   "cell_type": "code",
   "execution_count": null,
   "metadata": {},
   "outputs": [],
   "source": [
    "# Define user credentials\n",
    "username = '---'\n",
    "client_id = 99\n",
    "user_id = 0000\n",
    "token = ''"
   ]
  },
  {
   "cell_type": "markdown",
   "metadata": {},
   "source": [
    "Below is a function we use to retrieve data.\n",
    "\n",
    "We use this to abstract away the work of a data request.\n",
    "\n",
    "You shouldn't need to change anything here.\n",
    "\n",
    "Just run the cell so the function is available in the next step"
   ]
  },
  {
   "cell_type": "code",
   "execution_count": null,
   "metadata": {},
   "outputs": [],
   "source": [
    "def request_data(table=\"expression\", cancer_type = [\"all\"], genes = [], samples = [], drugs = None, source = \"PDX\", data_set_name = None):\n",
    "    \n",
    "    if data_set_name is None:\n",
    "        # generate a folder name if none was specified\n",
    "        res = ''.join(random.choices(string.ascii_uppercase +\n",
    "                             string.digits, k = 6))\n",
    "        data_set_name = 'Data-'+res\n",
    "    else:\n",
    "        # Remove any special characters\n",
    "        data_set_name = ''.join(e for e in data_set_name if e.isalnum())\n",
    "\n",
    "    # Define the data request dictionary\n",
    "    d = {\n",
    "        \"request_data_type\": table,\n",
    "        \"request_cancer_type\": cancer_type,\n",
    "        \"request_genes\": genes,\n",
    "        \"request_models\": samples,\n",
    "        \"request_agents\": None,\n",
    "        \"request_dataset\": source,\n",
    "        \"request_workspace_id\": username,\n",
    "        \"request_client\": client_id,\n",
    "        \"request_user\": user_id,\n",
    "        \"request_mode\": True,\n",
    "        \"request_display_error\": False,\n",
    "        \"preview\": True\n",
    "    }\n",
    "\n",
    "    # create the request\n",
    "    headers={\"authorization\":\"Bearer \"+token}\n",
    "    response = requests.post('https://lumin-fast-api.championsoncology.com/workstation/',json=d, headers=headers)\n",
    "    task_id = None\n",
    "    task_id = response.json()['task_id']\n",
    "\n",
    "    if task_id is None:\n",
    "        print(\"Error: No task_id returned. Please check the request details\")\n",
    "        return None\n",
    "    else:\n",
    "        print('')\n",
    "        print(\"Data Request ID: {}\".format(task_id))\n",
    "\n",
    "        # check the status of the request until it's complete\n",
    "        while True:\n",
    "            response = requests.get('https://lumin-fast-api.championsoncology.com/tasks/poll/'+task_id+'?old_progress=0',json=d, headers=headers)\n",
    "            state = response.json()['state']\n",
    "            if state == 'SUCCESS':\n",
    "                result = response.json()['result']\n",
    "                rd = json.loads(result)\n",
    "                #pp.pprint(rd)\n",
    "                folder = rd['name']\n",
    "                break\n",
    "            elif state == 'PROGRESS':\n",
    "                print(\"Still loading...\")\n",
    "            elif state == 'error':\n",
    "                print(\"Error: {}\".format(response.json()['error']))\n",
    "                return None, None\n",
    "            else:\n",
    "                print(\"Status: {}\".format(state))\n",
    "                time.sleep(20)\n",
    "            #pp.pprint(response.json())\n",
    "\n",
    "        # Change the folder name to the data set name\n",
    "        directory = os.path.expanduser(\"~\")\n",
    "        #print(directory)\n",
    "        os.rename(directory+'/'+folder, directory+'/'+data_set_name)\n",
    "\n",
    "        # combine the files and save as a CSV\n",
    "        folder = directory+\"/\"+data_set_name\n",
    "        data = pd.DataFrame()\n",
    "        i = 0\n",
    "        for file in os.listdir(folder):\n",
    "            i = i+1\n",
    "            print(f'reading file {i} {file} ...')\n",
    "            df = pd.read_json(folder+'/'+file)\n",
    "            data = pd.concat([data, df])\n",
    "    \n",
    "        #print(data)\n",
    "        data.to_csv(folder+'/'+data_set_name+'.csv', encoding='utf-8')\n",
    "\n",
    "        # return the file name and location to the user\n",
    "        return data,folder+'/'+data_set_name+'.csv'\n",
    "\n",
    "print(\"Function loaded\")"
   ]
  },
  {
   "cell_type": "markdown",
   "metadata": {},
   "source": [
    "### 2. Request Data"
   ]
  },
  {
   "cell_type": "markdown",
   "metadata": {},
   "source": [
    "Now we can make our data request. The request returns two results, a dataframe with your data, and the file location of your data saved as a CSV file.\n",
    "\n",
    "You can use the `location` variable to load straight from the CSV the next time you use this notebook. You don't need to request data from the API again until you want to change your analysis."
   ]
  },
  {
   "cell_type": "code",
   "execution_count": null,
   "metadata": {},
   "outputs": [],
   "source": [
    "# Request TGI data - run once\n",
    "#df, location = request_data(table=\"TGI\", drugs=[\"Olaparib\"])\n",
    "#print(\"Data saved to {} and available as df\".format(location))\n",
    "\n",
    "# Save just the columns we need\n",
    "#data_df = df[['model_name','agent','TGI','tumor_type']]\n",
    "#print(data_df)\n",
    "\n",
    "#data_df.to_csv(location, encoding='utf-8')\n",
    "\n",
    "\n",
    "# Load from CSV next time\n",
    "location = '../Data/TGI.csv'\n",
    "load_data_df = pd.read_csv(location)\n",
    "print(load_data_df.head(5))\n",
    "\n",
    "#df, location = request_data(table=\"expression\", genes = ['BRCA1', 'BRCA2'], data_set_name=\"BRCA!_BRCA2\")\n",
    "#print(\"Data saved to {} and available as df\".format(location))"
   ]
  }
 ],
 "metadata": {
  "language_info": {
   "name": "python"
  },
  "orig_nbformat": 4
 },
 "nbformat": 4,
 "nbformat_minor": 2
}
