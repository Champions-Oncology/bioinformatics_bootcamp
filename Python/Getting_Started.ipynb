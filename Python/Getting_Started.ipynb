{
 "cells": [
  {
   "cell_type": "markdown",
   "metadata": {},
   "source": [
    "# Getting Started with Python"
   ]
  },
  {
   "cell_type": "markdown",
   "metadata": {},
   "source": [
    "In order to test pieces of code we can run Python from the command line. In this Jupyter Notebook we are going to simulate this. You can type the commands in the fields and execute them.\n",
    "\n",
    "In the cell below, type:\n",
    "\n",
    "    print('Hello, World')\n",
    "\n",
    "Then press `<shift>` + `<return>` to run your code."
   ]
  },
  {
   "cell_type": "code",
   "execution_count": null,
   "metadata": {},
   "outputs": [],
   "source": [
    "print('Hello, World)"
   ]
  },
  {
   "cell_type": "markdown",
   "metadata": {},
   "source": [
    "Congratulations! You just created a Python program."
   ]
  },
  {
   "cell_type": "markdown",
   "metadata": {},
   "source": [
    "### **Whitespace has meaning in Python**\n",
    "\n",
    "The next cell won't run as-is. Delete the empty space before the second line"
   ]
  },
  {
   "cell_type": "code",
   "execution_count": null,
   "metadata": {},
   "outputs": [],
   "source": [
    "my_name = \"Art\"\n",
    "print('Hello, My name is {}'.format(my_name))\n",
    "    print(\"Nice to meet you\")"
   ]
  },
  {
   "cell_type": "markdown",
   "metadata": {},
   "source": [
    "### Markdown\n",
    "\n",
    "You can add nicely formatted text to your notebook in Markdown cells. Markdown is a little like HTML, but easier. To learn more about Markdown formatting, visit: [Markdown website](https://www.markdownguide.org/)\n",
    "\n",
    "Here's a handy [cheat sheet](https://www.markdownguide.org/cheat-sheet/)\n",
    "\n",
    "Double-click a Markdown cell to edit. Press `<shift>` + `<return>` to render."
   ]
  },
  {
   "cell_type": "code",
   "execution_count": null,
   "metadata": {},
   "outputs": [],
   "source": [
    "# This is a code comment\n",
    "print(\"Neato\") # You can add comments after code\n",
    "'''\n",
    "You can\n",
    "also\n",
    "add comment blocks\n",
    "'''"
   ]
  },
  {
   "cell_type": "markdown",
   "metadata": {},
   "source": [
    "## Variables"
   ]
  },
  {
   "cell_type": "markdown",
   "metadata": {},
   "source": [
    "Variable store values. They can be update or changed later"
   ]
  },
  {
   "cell_type": "code",
   "execution_count": null,
   "metadata": {},
   "outputs": [],
   "source": [
    "#variables demonstrated\n",
    "print(\"This program is a demo of variables\")\n",
    "v = 1\n",
    "print(\"The value of v is now\", v)\n",
    "v = v + 1\n",
    "print(\"v now equals itself plus one, making it worth\", v)\n",
    "v = 51\n",
    "print(\"v can store any numerical value, to be used elsewhere.\")\n",
    "print(\"for example, in a sentence. v is now worth\", v)\n",
    "print(\"v times 5 equals\", v * 5)\n",
    "print(\"but v still only remains\", v)\n",
    "print(\"to make v five times bigger, you would have to type v = v * 5\")\n",
    "v = v * 5\n",
    "print(\"there you go, now v equals\", v, \"and not\", v / 5)"
   ]
  },
  {
   "cell_type": "markdown",
   "metadata": {},
   "source": [
    "Variable can also be used for strings"
   ]
  },
  {
   "cell_type": "code",
   "execution_count": null,
   "metadata": {},
   "outputs": [],
   "source": [
    "#giving variables text, and adding text.\n",
    "word1 = \"Good\"\n",
    "word2 = \"morning\"\n",
    "word3 = \"to you too!\"\n",
    "print(word1, word2)\n",
    "sentence = word1 + \" \" + word2 + \" \" + word3\n",
    "print(sentence)"
   ]
  },
  {
   "cell_type": "markdown",
   "metadata": {},
   "source": [
    "More fun with strings!"
   ]
  },
  {
   "cell_type": "code",
   "execution_count": null,
   "metadata": {},
   "outputs": [],
   "source": [
    "my_name = \"Art Hanson\"\n",
    "print('My name has {} characters'.format(len(my_name)))\n",
    "print('The first letter of my name is {}'.format(my_name[0]))\n",
    "print('The third letter of my name is {}'.format(my_name[2]))"
   ]
  },
  {
   "cell_type": "code",
   "execution_count": null,
   "metadata": {},
   "outputs": [],
   "source": [
    "# More fun with strings\n",
    "print(my_name[:4])\n",
    "print(my_name[4:])\n",
    "print(my_name[4:8])\n",
    "print(my_name[-2])\n",
    "print(my_name[-4:])\n",
    "print(my_name[::2])"
   ]
  },
  {
   "cell_type": "markdown",
   "metadata": {},
   "source": [
    "## Tuples, lists, and dictionaries\n",
    "\n",
    "* Lists are what they seem - a list of values. Each one of them is numbered, starting from zero.\n",
    "* Tuples are just like lists, but you can't change their values. They are immutable.\n",
    "* Dictionaries are similar to what their name suggests - a dictionary. In a dictionary, you have an 'index' of words, and for each of them a definition. In Python, the word is called a 'key', and the definition a 'value'. The values in a dictionary aren't numbered - they aren't in any specific order, either - the key does the same thing. You can add, remove, and modify the values in dictionaries. Example: telephone book."
   ]
  },
  {
   "cell_type": "markdown",
   "metadata": {},
   "source": [
    "Lists let us work with multiple values at once. You've already worked with lists in the last cell. Strings are just lists of characters."
   ]
  },
  {
   "cell_type": "code",
   "execution_count": 6,
   "metadata": {},
   "outputs": [
    {
     "name": "stdout",
     "output_type": "stream",
     "text": [
      "BRCA1\n",
      "[0, 1, 4, 9, 16, 25, 36, 49, 64, 81]\n",
      "[0, 1, 4, 9, 16, 25, 36, 49, 64, 81]\n"
     ]
    }
   ],
   "source": [
    "# Create a list of genes\n",
    "genes = ['TP53', 'BRCA1', 'BRCA2', 'NOTCH1']\n",
    "print(genes[1])\n",
    "\n",
    "# Add to the list\n",
    "genes.append('PTEN')\n",
    "\n",
    "# Remove from the list\n",
    "del genes[0]\n",
    "\n",
    "# Now lets get fancy and try list comprehensions\n",
    "values = [i**2 for i in range(10)]\n",
    "print(values)\n",
    "\n",
    "# The hard way\n",
    "values = []\n",
    "for i in range(10):\n",
    "    values.append(i**2)\n",
    "print(values)"
   ]
  },
  {
   "cell_type": "markdown",
   "metadata": {},
   "source": [
    "Dictionaries are useful for holding associated information"
   ]
  },
  {
   "cell_type": "markdown",
   "metadata": {},
   "source": []
  },
  {
   "cell_type": "code",
   "execution_count": 21,
   "metadata": {},
   "outputs": [
    {
     "name": "stdout",
     "output_type": "stream",
     "text": [
      "querying 1-1...done.\n",
      "Finished.\n",
      "{'out': [{'query': 'NOTCH1', '_id': '4851', '_score': 89.69565, 'entrezgene': '4851', 'name': 'notch receptor 1', 'symbol': 'NOTCH1', 'taxid': 9606}], 'dup': [], 'missing': []}\n",
      "Gene description: notch receptor 1\n"
     ]
    }
   ],
   "source": [
    "# How about something more complicated? Lets retrieve some data from MyGene.info\n",
    "# https://docs.mygene.info/projects/mygene-py/en/latest/\n",
    "\n",
    "# First, we need to import the library\n",
    "#import sys\n",
    "#!{sys.executable} -m pip install biothings_client # This will install the library. We only need to do this once.\n",
    "from biothings_client import get_client\n",
    "mg = get_client('gene')\n",
    "\n",
    "example_dict = mg.querymany(genes[2], scopes='symbol', species='human', returnall=True)\n",
    "print(example_dict)\n",
    "\n",
    "# Now lets get the gene name\n",
    "print('Gene description: {}'.format(example_dict['out'][0]['name']))"
   ]
  },
  {
   "cell_type": "markdown",
   "metadata": {},
   "source": [
    "## Math"
   ]
  },
  {
   "cell_type": "code",
   "execution_count": 26,
   "metadata": {},
   "outputs": [
    {
     "name": "stdout",
     "output_type": "stream",
     "text": [
      "1 + 2 = 3\n",
      "1 + 2**2 = 5\n",
      "val = 1 + 2 * 3 = 7\n",
      "val = (1 + 2) * 3 = 9\n",
      "val**2 = 81\n",
      "val += 5 = 14\n"
     ]
    }
   ],
   "source": [
    "print('1 + 2 = {}'.format(1 + 2))\n",
    "print('1 + 2**2 = {}'.format(1 + 2**2))\n",
    "val = 1 + 2 * 3\n",
    "print('val = 1 + 2 * 3 = {}'.format(val))\n",
    "val = (1 + 2) * 3\n",
    "print('val = (1 + 2) * 3 = {}'.format(val))\n",
    "print('val**2 = {}'.format(val**2))\n",
    "\n",
    "val += 5\n",
    "print('val += 5 = {}'.format(val))"
   ]
  },
  {
   "cell_type": "markdown",
   "metadata": {},
   "source": [
    "# Conditionals and Control Structures"
   ]
  },
  {
   "cell_type": "markdown",
   "metadata": {},
   "source": [
    "While loops come in handy. Run the cell below to run the while loop. But first, how about a little debugging? Can you figure out what's wrong?"
   ]
  },
  {
   "cell_type": "code",
   "execution_count": null,
   "metadata": {},
   "outputs": [],
   "source": [
    "b = len(myname)\n",
    "a = 0\n",
    "while a <= b:\n",
    "    print(myname[a])\n",
    "    a = a + 1\n",
    "    "
   ]
  },
  {
   "cell_type": "markdown",
   "metadata": {},
   "source": [
    "For loops are more 'Pythonic' and often easier to read"
   ]
  },
  {
   "cell_type": "code",
   "execution_count": null,
   "metadata": {},
   "outputs": [],
   "source": [
    "for l in my_name:\n",
    "    print(l)\n",
    "\n",
    "# Let's try that again, but print a line number\n",
    "# using enumerate() gives you the line number and the line\n",
    "for i, l in enumerate(my_name):\n",
    "    print('[{}]: {}'.format(i, l))"
   ]
  },
  {
   "cell_type": "markdown",
   "metadata": {},
   "source": [
    "Booleen and comparison operators can be fun! :joy:[^1]\n",
    "\n",
    "\n",
    "| Expression | Function| \n",
    "| ---------- | -------- |\n",
    "| < | Less than| \n",
    "| <= | Less than or equal to| \n",
    "| > | Greater than| \n",
    "| >= | Greater than or equal to| \n",
    "| != | Not equal to| \n",
    "| <> | Not equal to (alternate)| \n",
    "| == | Equal to| \n",
    "\n",
    "    if something:\n",
    "        do(something)\n",
    "    elif something_else:\n",
    "        do(something_else)\n",
    "    else:\n",
    "        do(some_other_thing)\n",
    "    do(the_thing_we always_do)\n",
    "\n",
    "[^1]: Not really"
   ]
  },
  {
   "cell_type": "code",
   "execution_count": null,
   "metadata": {},
   "outputs": [],
   "source": [
    "z = 4\n",
    "if z > 70:\n",
    "    print(\"Something is very wrong\")\n",
    "elif z < 7:\n",
    "    print(\"This is normal\")"
   ]
  },
  {
   "cell_type": "markdown",
   "metadata": {},
   "source": [
    "# Working with files, arrays, and data tables  "
   ]
  },
  {
   "cell_type": "markdown",
   "metadata": {},
   "source": []
  }
 ],
 "metadata": {
  "interpreter": {
   "hash": "137895880d8bfd22e808d26835e8f63828b1a8ae1546fcb2ffabfacea4947f6b"
  },
  "kernelspec": {
   "display_name": "Python 3.7.7 64-bit ('AI': conda)",
   "language": "python",
   "name": "python3"
  },
  "language_info": {
   "codemirror_mode": {
    "name": "ipython",
    "version": 3
   },
   "file_extension": ".py",
   "mimetype": "text/x-python",
   "name": "python",
   "nbconvert_exporter": "python",
   "pygments_lexer": "ipython3",
   "version": "3.7.7"
  },
  "orig_nbformat": 4
 },
 "nbformat": 4,
 "nbformat_minor": 2
}
