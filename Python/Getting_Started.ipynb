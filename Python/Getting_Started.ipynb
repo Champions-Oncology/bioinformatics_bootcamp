{
 "cells": [
  {
   "cell_type": "markdown",
   "metadata": {},
   "source": [
    "# Getting Started with Python"
   ]
  },
  {
   "cell_type": "markdown",
   "metadata": {},
   "source": [
    "In order to test pieces of code we can run Python from the command line. In this Jupyter Notebook we are going to simulate this. You can type the commands in the fields and execute them.\n",
    "\n",
    "In the cell below, type:\n",
    "\n",
    "    print('Hello, World')\n",
    "\n",
    "Then press `<shift>` + `<return>` to run your code."
   ]
  },
  {
   "cell_type": "code",
   "execution_count": null,
   "metadata": {},
   "outputs": [],
   "source": [
    "print('Hello, World')"
   ]
  },
  {
   "cell_type": "markdown",
   "metadata": {},
   "source": [
    "Congratulations! You just created a Python program."
   ]
  },
  {
   "cell_type": "markdown",
   "metadata": {},
   "source": [
    "### **Whitespace has meaning in Python**\n",
    "\n",
    "The next cell won't run as-is. Delete the empty space before the second line"
   ]
  },
  {
   "cell_type": "code",
   "execution_count": null,
   "metadata": {},
   "outputs": [],
   "source": [
    "my_name = \"Art\"\n",
    "print('Hello, My name is {}'.format(my_name))\n",
    "    print(\"Nice to meet you\")"
   ]
  },
  {
   "cell_type": "markdown",
   "metadata": {},
   "source": [
    "### Markdown\n",
    "\n",
    "You can add nicely formatted text to your notebook in Markdown cells. Markdown is a little like HTML, but easier. To learn more about Markdown formatting, visit: [Markdown website](https://www.markdownguide.org/)\n",
    "\n",
    "Here's a handy [cheat sheet](https://www.markdownguide.org/cheat-sheet/)\n",
    "\n",
    "Double-click a Markdown cell to edit. Press `<shift>` + `<return>` to render."
   ]
  },
  {
   "cell_type": "code",
   "execution_count": null,
   "metadata": {},
   "outputs": [],
   "source": [
    "# This is a code comment\n",
    "print(\"Neato\") # You can add comments after code\n",
    "'''\n",
    "You can\n",
    "also\n",
    "add comment blocks\n",
    "'''"
   ]
  },
  {
   "cell_type": "markdown",
   "metadata": {},
   "source": [
    "## Variables"
   ]
  },
  {
   "cell_type": "markdown",
   "metadata": {},
   "source": [
    "Variable store values. They can be update or changed later"
   ]
  },
  {
   "cell_type": "code",
   "execution_count": null,
   "metadata": {},
   "outputs": [],
   "source": [
    "#variables demonstrated\n",
    "print(\"This program is a demo of variables\")\n",
    "v = 1\n",
    "print(\"The value of v is now\", v)\n",
    "v = v + 1\n",
    "print(\"v now equals itself plus one, making it worth\", v)\n",
    "v = 51\n",
    "print(\"v can store any numerical value, to be used elsewhere.\")\n",
    "print(\"for example, in a sentence. v is now worth\", v)\n",
    "print(\"v times 5 equals\", v * 5)\n",
    "print(\"but v still only remains\", v)\n",
    "print(\"to make v five times bigger, you would have to type v = v * 5\")\n",
    "v = v * 5\n",
    "print(\"there you go, now v equals\", v, \"and not\", v / 5)"
   ]
  },
  {
   "cell_type": "markdown",
   "metadata": {},
   "source": [
    "Variable can also be used for strings"
   ]
  },
  {
   "cell_type": "code",
   "execution_count": null,
   "metadata": {},
   "outputs": [],
   "source": [
    "#giving variables text, and adding text.\n",
    "word1 = \"Good\"\n",
    "word2 = \"morning\"\n",
    "word3 = \"to you too!\"\n",
    "print(word1, word2)\n",
    "sentence = word1 + \" \" + word2 + \" \" + word3\n",
    "print(sentence)"
   ]
  },
  {
   "cell_type": "markdown",
   "metadata": {},
   "source": [
    "More fun with strings!"
   ]
  },
  {
   "cell_type": "code",
   "execution_count": null,
   "metadata": {},
   "outputs": [],
   "source": [
    "my_name = \"Art Hanson\"\n",
    "print('My name has {} characters'.format(len(my_name)))\n",
    "print('The first letter of my name is {}'.format(my_name[0]))\n",
    "print('The third letter of my name is {}'.format(my_name[2]))"
   ]
  },
  {
   "cell_type": "code",
   "execution_count": null,
   "metadata": {},
   "outputs": [],
   "source": [
    "# More fun with strings\n",
    "print(my_name[:4])\n",
    "print(my_name[4:])\n",
    "print(my_name[4:8])\n",
    "print(my_name[-2])\n",
    "print(my_name[-4:])\n",
    "print(my_name[::2])"
   ]
  },
  {
   "cell_type": "markdown",
   "metadata": {},
   "source": [
    "## Tuples, lists, and dictionaries\n",
    "\n",
    "* Lists are what they seem - a list of values. Each one of them is numbered, starting from zero.\n",
    "* Tuples are just like lists, but you can't change their values. They are immutable.\n",
    "* Dictionaries are similar to what their name suggests - a dictionary. In a dictionary, you have an 'index' of words, and for each of them a definition. In Python, the word is called a 'key', and the definition a 'value'. The values in a dictionary aren't numbered - they aren't in any specific order, either - the key does the same thing. You can add, remove, and modify the values in dictionaries. Example: telephone book."
   ]
  },
  {
   "cell_type": "markdown",
   "metadata": {},
   "source": [
    "Lists let us work with multiple values at once. You've already worked with lists in the last cell. Strings are just lists of characters."
   ]
  },
  {
   "cell_type": "code",
   "execution_count": null,
   "metadata": {},
   "outputs": [],
   "source": [
    "# Create a list of genes\n",
    "genes = ['TP53', 'BRCA1', 'BRCA2', 'NOTCH1']\n",
    "print(genes[1])\n",
    "\n",
    "# Add to the list\n",
    "genes.append('PTEN')\n",
    "\n",
    "# Remove from the list\n",
    "del genes[0]\n",
    "\n",
    "# Now lets get fancy and try list comprehensions\n",
    "values = [i**2 for i in range(10)]\n",
    "print(values)\n",
    "\n",
    "# The hard way\n",
    "values = []\n",
    "for i in range(10):\n",
    "    values.append(i**2)\n",
    "print(values)"
   ]
  },
  {
   "cell_type": "markdown",
   "metadata": {},
   "source": [
    "Dictionaries are useful for holding associated information"
   ]
  },
  {
   "cell_type": "markdown",
   "metadata": {},
   "source": []
  },
  {
   "cell_type": "code",
   "execution_count": null,
   "metadata": {},
   "outputs": [],
   "source": [
    "# How about something more complicated? Lets retrieve some data from MyGene.info\n",
    "# https://docs.mygene.info/projects/mygene-py/en/latest/\n",
    "\n",
    "# First, we need to import the library\n",
    "#import sys\n",
    "#!{sys.executable} -m pip install biothings_client # This will install the library. We only need to do this once.\n",
    "from biothings_client import get_client\n",
    "mg = get_client('gene')\n",
    "\n",
    "example_dict = mg.querymany(genes[2], scopes='symbol', species='human', returnall=True)\n",
    "print(example_dict)\n",
    "\n",
    "# Now lets get the gene name\n",
    "print('Gene description: {}'.format(example_dict['out'][0]['name']))"
   ]
  },
  {
   "cell_type": "markdown",
   "metadata": {},
   "source": [
    "## Math"
   ]
  },
  {
   "cell_type": "code",
   "execution_count": null,
   "metadata": {},
   "outputs": [],
   "source": [
    "print('1 + 2 = {}'.format(1 + 2))\n",
    "print('1 + 2**2 = {}'.format(1 + 2**2))\n",
    "val = 1 + 2 * 3\n",
    "print('val = 1 + 2 * 3 = {}'.format(val))\n",
    "val = (1 + 2) * 3\n",
    "print('val = (1 + 2) * 3 = {}'.format(val))\n",
    "print('val**2 = {}'.format(val**2))\n",
    "\n",
    "val += 5\n",
    "print('val += 5 = {}'.format(val))"
   ]
  },
  {
   "cell_type": "markdown",
   "metadata": {},
   "source": [
    "# Conditionals and Control Structures"
   ]
  },
  {
   "cell_type": "markdown",
   "metadata": {},
   "source": [
    "While loops come in handy. Run the cell below to run the while loop. But first, how about a little debugging? Can you figure out what's wrong?"
   ]
  },
  {
   "cell_type": "code",
   "execution_count": null,
   "metadata": {},
   "outputs": [],
   "source": [
    "b = len(myname)\n",
    "a = 0\n",
    "while a <= b:\n",
    "    print(myname[a])\n",
    "    a = a + 1\n",
    "    "
   ]
  },
  {
   "cell_type": "markdown",
   "metadata": {},
   "source": [
    "For loops are more 'Pythonic' and often easier to read"
   ]
  },
  {
   "cell_type": "code",
   "execution_count": null,
   "metadata": {},
   "outputs": [],
   "source": [
    "for l in my_name:\n",
    "    print(l)\n",
    "\n",
    "# Let's try that again, but print a line number\n",
    "# using enumerate() gives you the line number and the line\n",
    "for i, l in enumerate(my_name):\n",
    "    print('[{}]: {}'.format(i, l))"
   ]
  },
  {
   "cell_type": "markdown",
   "metadata": {},
   "source": [
    "Booleen and comparison operators can be fun! :joy:[^1]\n",
    "\n",
    "\n",
    "| Expression | Function| \n",
    "| ---------- | -------- |\n",
    "| < | Less than| \n",
    "| <= | Less than or equal to| \n",
    "| > | Greater than| \n",
    "| >= | Greater than or equal to| \n",
    "| != | Not equal to| \n",
    "| <> | Not equal to (alternate)| \n",
    "| == | Equal to| \n",
    "\n",
    "    if something:\n",
    "        do(something)\n",
    "    elif something_else:\n",
    "        do(something_else)\n",
    "    else:\n",
    "        do(some_other_thing)\n",
    "    do(the_thing_we always_do)\n",
    "\n",
    "[^1]: Not really"
   ]
  },
  {
   "cell_type": "code",
   "execution_count": null,
   "metadata": {},
   "outputs": [],
   "source": [
    "z = 4\n",
    "if z > 70:\n",
    "    print(\"Something is very wrong\")\n",
    "elif z < 7:\n",
    "    print(\"This is normal\")"
   ]
  },
  {
   "cell_type": "markdown",
   "metadata": {},
   "source": [
    "Here's a handy utility function to convert a sting of integers (CTG model numbers) into a proper list of CTG numbers.\n",
    "Here, we're just pasting the values but we could also read them in from a file.\n",
    "We use a format string and a list comprehension to apply zero padding and add the 'CTG-' to each item in the list."
   ]
  },
  {
   "cell_type": "code",
   "execution_count": null,
   "metadata": {},
   "outputs": [],
   "source": [
    "models =  \"6,9,11,12,17,18,19,33,52,58,59,61,62,63,64,65,66,67,68,69,75,662,79,80,81,82,83,84,86,87,88,89,90,92,93,101,102,103,104,107,115,116,117,121,125,129,134,136,137,138,140,142,143,145,146,147,148,149,152,158,159,160,162,163,165,166,167,178,184,192,198,199,201,202,203,204,210,211,213,215,219,231,232,234,237,241,242,243,252,253,257,258,259,282,283,284,285,286,287,288,289,290,291,292,293,294,295,296,298,299,300,301,302,303,305,306,307,308,309,314,661,329,331,334,707,353,566,706,356,358,359,360,435,2091,487,564,362,369,370,373,374,375,379,381,382,387,396,399,400,401,403,406,410,411,416,419,420,421,652,434,436,437,438,439,440,443,449,454,455,456,457,462,463,464,473,2089,485,727,486,708,489,492,493,656,496,497,499,500,501,502,505,676,654,660,663,664,666,667,670,672,674,677,679,680,681,687,688,689,699,701,703,711,712,714,717,718,719,722,723,740,743,2087,2086,755,759,765,787,799,775,780,776,2434,786,785,784,781,779,772,771,768,788,790,791,792,796,798,800,802,804,807,808,810,811,812,816,840,818,820,824,826,827,828,833,834,835,838,839,842,848,849,851,852,855,860,864,866,868,887,869,871,881,886,888,889,891,896,897,898,899,900,901,953,910,911,914,923,924,926,927,933,934,936,938,940,941,943,947,952,951,955,956,958,959,961,963,964,966,967,969,970,973,977,978,980,983,985,987,992,993,994,996,997,998,999,1005,1006,1008,1009,1010,1012,1014,1015,1017,1018,1019,1020,1021,1022,1031,1033,1034,1035,1040,1053,1054,1055,1056,1057,1058,1059,1060,1061,1064,1066,1068,1069,1071,1072,1073,1076,1078,1079,1084,1086,1087,1116,1105,1092,1094,1095,1096,1100,1106,1112,1118,1122,1124,1126,1128,1129,1130,1131,1138,1140,1143,1144,1146,1147,1149,1150,1151,1152,1153,1157,1161,1162,1165,1166,1167,1170,1171,1173,1180,1181,1182,1184,1189,1194,1195,1199,1205,1207,1210,1211,1212,1213\"\n",
    "model_list = models.split(',')\n",
    "pad = \"% 04d\"\n",
    "CTGs = ['CTG-'+i.zfill(4) for i in model_list]\n",
    "print(CTGs)\n"
   ]
  },
  {
   "cell_type": "markdown",
   "metadata": {},
   "source": [
    "# Working with files, arrays, and data tables  \n",
    "\n",
    "Lets start by loading some example data"
   ]
  },
  {
   "cell_type": "code",
   "execution_count": null,
   "metadata": {},
   "outputs": [],
   "source": [
    "# Import the pandas library\n",
    "import pandas as pd\n",
    "\n",
    "# Read in the data\n",
    "# '../' means go up one directory\n",
    "df = pd.read_csv ('../Data/samples.csv')\n",
    "print(df)"
   ]
  },
  {
   "cell_type": "markdown",
   "metadata": {},
   "source": [
    "250 samples. That's a lot! Lets randomly select 10% of those rows..."
   ]
  },
  {
   "cell_type": "code",
   "execution_count": null,
   "metadata": {},
   "outputs": [],
   "source": [
    "df = df.sample(frac = 0.1)\n",
    "print(df)"
   ]
  },
  {
   "cell_type": "code",
   "execution_count": null,
   "metadata": {},
   "outputs": [],
   "source": [
    "# Let's try to get the first row\n",
    "print('First row: {}'.format(df.iloc[0]))\n",
    "\n",
    "\n"
   ]
  },
  {
   "cell_type": "code",
   "execution_count": null,
   "metadata": {},
   "outputs": [],
   "source": [
    "# Let's try to get unique samples\n",
    "print('Unique smoking_status: {}'.format(df['smoking_status'].unique()))\n",
    "\n",
    "# Now let's get just the rows where smoking_status = \"Smoker\"\n",
    "smoker_df = df[df['smoking_status'] == 'Smoker']\n",
    "print(smoker_df)\n",
    "print(smoker_df.shape)"
   ]
  },
  {
   "cell_type": "code",
   "execution_count": null,
   "metadata": {},
   "outputs": [],
   "source": [
    "# Now let's get just the rows where smoking_status = \"Smoker\"\n",
    "smoker_df = df[df['smoking_status'] == 'Smoker']\n",
    "print(smoker_df)\n",
    "print(smoker_df.shape)"
   ]
  }
 ],
 "metadata": {
  "interpreter": {
   "hash": "137895880d8bfd22e808d26835e8f63828b1a8ae1546fcb2ffabfacea4947f6b"
  },
  "kernelspec": {
   "display_name": "Python 3.7.7 64-bit ('AI': conda)",
   "language": "python",
   "name": "python3"
  },
  "language_info": {
   "codemirror_mode": {
    "name": "ipython",
    "version": 3
   },
   "file_extension": ".py",
   "mimetype": "text/x-python",
   "name": "python",
   "nbconvert_exporter": "python",
   "pygments_lexer": "ipython3",
   "version": "3.7.7"
  },
  "orig_nbformat": 4
 },
 "nbformat": 4,
 "nbformat_minor": 2
}
